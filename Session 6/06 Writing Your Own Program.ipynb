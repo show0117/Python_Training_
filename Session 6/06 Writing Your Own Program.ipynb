{
 "cells": [
  {
   "cell_type": "markdown",
   "id": "393adb65",
   "metadata": {},
   "source": [
    "## Guess a Number\n",
    "### 在這裡，我要要來製作一支簡易的遊戲程式，叫做Guess a Number，規則很簡單，首先我們的程式，會隨機紀錄一個數字，而我們要在限定的次數內猜中這個數字。"
   ]
  },
  {
   "cell_type": "markdown",
   "id": "4e17b0fb",
   "metadata": {},
   "source": [
    "### 首先，要先引入所需套件，並且透過該套件來產生隨機亂數。"
   ]
  },
  {
   "cell_type": "code",
   "execution_count": 30,
   "id": "8e2439ac",
   "metadata": {},
   "outputs": [
    {
     "name": "stdout",
     "output_type": "stream",
     "text": [
      "Hello. What is your name?\n",
      "Davis\n",
      "Well, Davis. I am thinking a number between 1 to 100\n"
     ]
    }
   ],
   "source": [
    "import random\n",
    "print('Hello. What is your name?')\n",
    "name = input()\n",
    "secretNumber = random.randint(1,100)\n",
    "print('Well, '+name+'. I am thinking a number between 1 to 100')"
   ]
  },
  {
   "cell_type": "markdown",
   "id": "e87a1128",
   "metadata": {},
   "source": [
    "### 接著，我們要透過迴圈來限制輸入次數，同時在每次回答後給予不同的提示。"
   ]
  },
  {
   "cell_type": "code",
   "execution_count": 33,
   "id": "e352844b",
   "metadata": {},
   "outputs": [
    {
     "name": "stdout",
     "output_type": "stream",
     "text": [
      "Take a guess. Be carefull! you just have 6 chances.\n",
      "51\n"
     ]
    }
   ],
   "source": [
    "for guessesTaken in range(1,7):\n",
    "    print('Take a guess. Be carefull! you just have '+str(7-guessesTaken)+' chances.')\n",
    "    number = input()\n",
    "    guess = int(number)     \n",
    "    if guess>secretNumber:\n",
    "        print('Your guess is too high')\n",
    "    elif guess<secretNumber:\n",
    "        print('Your guess is too low')\n",
    "    else:\n",
    "        break"
   ]
  },
  {
   "cell_type": "markdown",
   "id": "a753254a",
   "metadata": {},
   "source": [
    "### 最後，我們再透過條件句進行流程控制，來判斷參與遊戲的人是否獲勝。\n"
   ]
  },
  {
   "cell_type": "code",
   "execution_count": 34,
   "id": "d96c098c",
   "metadata": {},
   "outputs": [
    {
     "name": "stdout",
     "output_type": "stream",
     "text": [
      "Good job, Davis! You guessed my number in 1 guesses!\n"
     ]
    }
   ],
   "source": [
    "if guess ==  secretNumber:\n",
    "    print('Good job, ' + name +'! You guessed my number in '+str(guessesTaken)+' guesses!')\n",
    "else:\n",
    "    print('Nope. The number I was thinking of was '+str(secretNumber))"
   ]
  },
  {
   "cell_type": "markdown",
   "id": "9698d031",
   "metadata": {},
   "source": [
    "## Automated Email with Python"
   ]
  },
  {
   "cell_type": "markdown",
   "id": "2dee55d1",
   "metadata": {},
   "source": [
    "## 套件引入\n",
    "### 這個部分，我們將講述如何利用python完成電子郵件的寄送，以及如何透過windows內建的工作排程器完成自動化的郵件寄送。首先我們先引入以下模組(注意，若無法引入請先用pip install指令下載相關套件):"
   ]
  },
  {
   "cell_type": "code",
   "execution_count": 35,
   "id": "340cd4b0",
   "metadata": {},
   "outputs": [],
   "source": [
    "import smtplib\n",
    "import mimetypes\n",
    "from email.mime.multipart import MIMEMultipart\n",
    "from email.mime.text import MIMEText\n",
    "import pandas as pd"
   ]
  },
  {
   "cell_type": "markdown",
   "id": "f38c39d1",
   "metadata": {},
   "source": [
    "## 建立MIMEMultipart物件\n",
    "### 首先我們需要先建立一個MIMEMultipart物件，並且宣告我們信件的寄件人、收件人、信件標體與信件內容來確定我們信件中的各項要素。"
   ]
  },
  {
   "cell_type": "code",
   "execution_count": 37,
   "id": "b202a624",
   "metadata": {},
   "outputs": [],
   "source": [
    "content = MIMEMultipart()   #建立MIMEMultipart物件\n",
    "text = '測試集資料'  #信件內容\n",
    "fileToSend = 'mock_data.csv'  #附檔所在路徑\n",
    "fp = open(fileToSend,encoding = 'big5')   #讀取要傳送的檔案\n",
    "attachment = MIMEText(fp.read(), 'base64', 'utf-8')   #將讀取的檔案轉換成MIMEText格式\n",
    "attachment.add_header(\"Content-Disposition\", \"attachment\", filename= 'mock_data.csv') #指定檔名\n",
    "fp.close()\n",
    "content[\"subject\"] = \"課程資料\"    #信件標題\n",
    "part = MIMEText(text, _charset=\"UTF-8\")   #將文字轉換成中文編碼\n",
    "receivers = ['receiver1@gmail.com', 'receiver2@gmail.com']   #收件人(可多位)\n",
    "sender = 'sender@gmail.com'   #寄件人"
   ]
  },
  {
   "cell_type": "markdown",
   "id": "8d8bf39f",
   "metadata": {},
   "source": [
    "### 接著我們將上個步驟宣告的各個要素宣告進我們一開始所建立的MIMEMultipart物件之中。"
   ]
  },
  {
   "cell_type": "code",
   "execution_count": null,
   "id": "4fdf2073",
   "metadata": {},
   "outputs": [],
   "source": [
    "content[\"from\"] =  sender #寄件者\n",
    "content[\"to\"] = ','.join(receivers)  #收件者\n",
    "content.attach(part)  # 信件內容\n",
    "content.attach(attachment)   #信件附檔"
   ]
  },
  {
   "cell_type": "markdown",
   "id": "cded071c",
   "metadata": {},
   "source": [
    "## 寄送信件\n",
    "### 在取得了應用程式密碼後，我們就可以透過smtp伺服器登入寄件者的gmail來寄送信件了。"
   ]
  },
  {
   "cell_type": "code",
   "execution_count": null,
   "id": "5f4013d0",
   "metadata": {},
   "outputs": [],
   "source": [
    "with smtplib.SMTP(host=\"smtp.gmail.com\", port=\"587\") as smtp:\n",
    "    smtp.ehlo()  # 驗證SMTP伺服器\n",
    "    smtp.starttls()  # 建立加密傳輸\n",
    "    smtp.login(\"my_gmail@gmail.com\", \"zmcbhlxxxxxxxxxx\")  # 登入寄件者gmail\n",
    "    smtp.send_message(content)  # 寄送郵件\n",
    "    print(\"Complete!\")"
   ]
  },
  {
   "cell_type": "code",
   "execution_count": null,
   "id": "d69e4b3f",
   "metadata": {},
   "outputs": [],
   "source": []
  },
  {
   "cell_type": "code",
   "execution_count": null,
   "id": "133b6217",
   "metadata": {},
   "outputs": [],
   "source": []
  }
 ],
 "metadata": {
  "kernelspec": {
   "display_name": "Python 3",
   "language": "python",
   "name": "python3"
  },
  "language_info": {
   "codemirror_mode": {
    "name": "ipython",
    "version": 3
   },
   "file_extension": ".py",
   "mimetype": "text/x-python",
   "name": "python",
   "nbconvert_exporter": "python",
   "pygments_lexer": "ipython3",
   "version": "3.8.8"
  }
 },
 "nbformat": 4,
 "nbformat_minor": 5
}
