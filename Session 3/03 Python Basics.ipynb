{
 "cells": [
  {
   "cell_type": "markdown",
   "id": "HRQMZz3KmXqX",
   "metadata": {
    "id": "HRQMZz3KmXqX"
   },
   "source": [
    "# 03 Python Basics\n"
   ]
  },
  {
   "cell_type": "markdown",
   "id": "58b3128f",
   "metadata": {},
   "source": [
    "## 03.1 Summary"
   ]
  },
  {
   "cell_type": "markdown",
   "id": "2281750b",
   "metadata": {},
   "source": [
    "## Statement和Expression\n",
    "### Python執行任何指令的動作可以被分成Statement和Expression，差別在於Expression會在指令執行完畢後進行值的回傳。"
   ]
  },
  {
   "cell_type": "markdown",
   "id": "ZUp3BqM3nEjJ",
   "metadata": {
    "id": "ZUp3BqM3nEjJ"
   },
   "source": [
    "### Statement"
   ]
  },
  {
   "cell_type": "code",
   "execution_count": null,
   "id": "8-xQXKdynD23",
   "metadata": {
    "id": "8-xQXKdynD23"
   },
   "outputs": [],
   "source": [
    "x = 1"
   ]
  },
  {
   "cell_type": "code",
   "execution_count": null,
   "id": "AwXKVk9nnLQu",
   "metadata": {
    "id": "AwXKVk9nnLQu"
   },
   "outputs": [],
   "source": [
    "def function(x):\n",
    "  print(x)"
   ]
  },
  {
   "cell_type": "markdown",
   "id": "sPcUfFLrnOKy",
   "metadata": {
    "id": "sPcUfFLrnOKy"
   },
   "source": [
    "### Expression"
   ]
  },
  {
   "cell_type": "code",
   "execution_count": null,
   "id": "sxADfjLAnLYi",
   "metadata": {
    "id": "sxADfjLAnLYi"
   },
   "outputs": [],
   "source": [
    "2+3"
   ]
  },
  {
   "cell_type": "code",
   "execution_count": null,
   "id": "6sMMH2MDnLa3",
   "metadata": {
    "id": "6sMMH2MDnLa3"
   },
   "outputs": [],
   "source": [
    "2==2"
   ]
  },
  {
   "cell_type": "markdown",
   "id": "b640f8a0",
   "metadata": {},
   "source": [
    "## 練習 \n",
    "### Q1 以下程式碼的執行式屬於Statement還是Expression? \n",
    "### >>>37-5\n",
    "### a. Statement  b. Expression  c. 以上皆是  d. 以上皆非"
   ]
  },
  {
   "cell_type": "code",
   "execution_count": 6,
   "id": "4173e4a7",
   "metadata": {},
   "outputs": [
    {
     "data": {
      "text/plain": [
       "32"
      ]
     },
     "execution_count": 6,
     "metadata": {},
     "output_type": "execute_result"
    }
   ],
   "source": [
    "37-5 # 有輸出結果，所以是Expression"
   ]
  },
  {
   "cell_type": "markdown",
   "id": "75c70cc9",
   "metadata": {},
   "source": [
    "### Q2 以下程式碼的執行式結果為何? \n",
    "### >>> spam = 7\n",
    "### a. 7  b. spam  c. None  d. 不會有結果輸出"
   ]
  },
  {
   "cell_type": "code",
   "execution_count": 7,
   "id": "4c7e0f48",
   "metadata": {},
   "outputs": [],
   "source": [
    "spam = 7 "
   ]
  },
  {
   "cell_type": "markdown",
   "id": "688a4498",
   "metadata": {},
   "source": [
    "### Q3 甚麼是Keyword(保留字)\n",
    "### a. Python預設定義過的單詞，具有特定含義和用途。  b. 一種特殊的資料形式  c. 字典中的自定義變數  \n",
    "### 答案: a"
   ]
  },
  {
   "cell_type": "markdown",
   "id": "fb553f24",
   "metadata": {},
   "source": [
    "### Q4 甚麼是Variable(變數)?\n",
    "### a. 一種有序且可變動的資料形式    b. Python 中使用者自行定義的識別字。   c. 幫助邏輯判斷的資料形式。\n",
    "### 答案 : b"
   ]
  },
  {
   "cell_type": "markdown",
   "id": "ccddad48",
   "metadata": {},
   "source": [
    "### Q5 以下程式碼的輸出結果為何?\n",
    "### >>> X = 7\n",
    "### >>> Y = 3\n",
    "### >>> X+Y\n",
    "### a. 7+3  b. X+Y  c. 不會有結果輸出  d. 10"
   ]
  },
  {
   "cell_type": "code",
   "execution_count": 9,
   "id": "e3d350ca",
   "metadata": {},
   "outputs": [
    {
     "data": {
      "text/plain": [
       "10"
      ]
     },
     "execution_count": 9,
     "metadata": {},
     "output_type": "execute_result"
    }
   ],
   "source": [
    "X = 7\n",
    "Y = 3\n",
    "X+Y"
   ]
  },
  {
   "cell_type": "markdown",
   "id": "1ffd351e",
   "metadata": {},
   "source": [
    "## 03.2 Formatting, Types & I/Os\n",
    "## Python Formatting\n",
    "### 在編寫Python程式碼的時候，一定要注意相關的輸入格式，否則將會出現錯誤，這邊則介紹幾種常見的輸入格式。"
   ]
  },
  {
   "cell_type": "markdown",
   "id": "13ff3731",
   "metadata": {},
   "source": [
    "## Block 集區\n",
    "### 在我們編寫迴圈或函式時，要將要執行的指令內容寫在該迴圈或函式的集區之中，而我們會以空格來區分集區，如下範例所示。"
   ]
  },
  {
   "cell_type": "code",
   "execution_count": 2,
   "id": "8647aa25",
   "metadata": {},
   "outputs": [
    {
     "name": "stdout",
     "output_type": "stream",
     "text": [
      "Hello\n",
      "I am Alex\n",
      "Nice to meet you\n"
     ]
    }
   ],
   "source": [
    "name = 'Alice'\n",
    "if name=='Alice':\n",
    "    print('Hello')\n",
    "    print('I am Alex')\n",
    "    print('Nice to meet you')"
   ]
  },
  {
   "cell_type": "markdown",
   "id": "d5b4b5c9",
   "metadata": {},
   "source": [
    "## 換行\n",
    "### 有時候我們需要編寫大量的程式碼，這時為了排版美觀，我們會需要換行書寫，在大部分的情況下，換行都是被允許的正確格式，但是若是一大串的字串要換行，要用反斜線來幫助換行，否則會出現錯誤。"
   ]
  },
  {
   "cell_type": "code",
   "execution_count": 5,
   "id": "af6898b0",
   "metadata": {},
   "outputs": [
    {
     "name": "stdout",
     "output_type": "stream",
     "text": [
      "15000\n"
     ]
    }
   ],
   "source": [
    "print(10000+2000\n",
    "+3000)"
   ]
  },
  {
   "cell_type": "code",
   "execution_count": 6,
   "id": "3fb0896f",
   "metadata": {},
   "outputs": [
    {
     "ename": "SyntaxError",
     "evalue": "EOL while scanning string literal (<ipython-input-6-447ef796cd93>, line 1)",
     "output_type": "error",
     "traceback": [
      "\u001b[1;36m  File \u001b[1;32m\"<ipython-input-6-447ef796cd93>\"\u001b[1;36m, line \u001b[1;32m1\u001b[0m\n\u001b[1;33m    print('Risk of severe breakthrough Covid-19 higher for seniors and people with underlying\u001b[0m\n\u001b[1;37m                                                                                              ^\u001b[0m\n\u001b[1;31mSyntaxError\u001b[0m\u001b[1;31m:\u001b[0m EOL while scanning string literal\n"
     ]
    }
   ],
   "source": [
    "print('Risk of severe breakthrough Covid-19 higher for seniors and people with underlying \n",
    "      conditions')"
   ]
  },
  {
   "cell_type": "code",
   "execution_count": 7,
   "id": "5e981055",
   "metadata": {},
   "outputs": [
    {
     "name": "stdout",
     "output_type": "stream",
     "text": [
      "Risk of severe breakthrough Covid-19 higher for seniors and people with underlyingconditions\n"
     ]
    }
   ],
   "source": [
    "print('Risk of severe breakthrough Covid-19 higher for seniors and people with underlying\\\n",
    "conditions')"
   ]
  },
  {
   "cell_type": "markdown",
   "id": "b1253a1e",
   "metadata": {},
   "source": [
    "## 保留字\n",
    "### 保留字是 Python 語言中一些預設被賦予特定意義的單詞，且開發者在開發程序時，不能用這些保留字作為標識符給變量、函數、類別、模組以及其他對象命名。"
   ]
  },
  {
   "cell_type": "code",
   "execution_count": 9,
   "id": "1fae81c1",
   "metadata": {},
   "outputs": [
    {
     "name": "stdout",
     "output_type": "stream",
     "text": [
      "['False', 'None', 'True', 'and', 'as', 'assert', 'async', 'await', 'break', 'class', 'continue', 'def', 'del', 'elif', 'else', 'except', 'finally', 'for', 'from', 'global', 'if', 'import', 'in', 'is', 'lambda', 'nonlocal', 'not', 'or', 'pass', 'raise', 'return', 'try', 'while', 'with', 'yield']\n"
     ]
    }
   ],
   "source": [
    "import keyword\n",
    "keyList = keyword.kwlist\n",
    "print(keyList)"
   ]
  },
  {
   "cell_type": "markdown",
   "id": "4ad3ec72",
   "metadata": {
    "id": "4ad3ec72"
   },
   "source": [
    "## Data Type 資料型態"
   ]
  },
  {
   "cell_type": "markdown",
   "id": "f3f8e179",
   "metadata": {
    "id": "f3f8e179"
   },
   "source": [
    "### 在本篇，我們將介紹Python的一些基本知識以及Python的運算機制與表達機制。在Python中，常見的三種資料型態為字串(String)、整數(Integer)和浮點數(Float)，我們可以用Type指令來辨識我們的這些資料型態。"
   ]
  },
  {
   "cell_type": "markdown",
   "id": "83cec24e",
   "metadata": {
    "id": "83cec24e"
   },
   "source": [
    "### 字串"
   ]
  },
  {
   "cell_type": "code",
   "execution_count": null,
   "id": "2b955bc2",
   "metadata": {
    "id": "2b955bc2"
   },
   "outputs": [],
   "source": [
    "'Hello'\n",
    "type('Hello')"
   ]
  },
  {
   "cell_type": "markdown",
   "id": "3e630947",
   "metadata": {
    "id": "3e630947"
   },
   "source": [
    "### 整數"
   ]
  },
  {
   "cell_type": "code",
   "execution_count": null,
   "id": "43761993",
   "metadata": {
    "id": "43761993"
   },
   "outputs": [],
   "source": [
    "42\n",
    "type(42)"
   ]
  },
  {
   "cell_type": "markdown",
   "id": "3a18c99b",
   "metadata": {
    "id": "3a18c99b"
   },
   "source": [
    "### 浮點數"
   ]
  },
  {
   "cell_type": "code",
   "execution_count": 10,
   "id": "414d3e0b",
   "metadata": {},
   "outputs": [
    {
     "data": {
      "text/plain": [
       "float"
      ]
     },
     "execution_count": 10,
     "metadata": {},
     "output_type": "execute_result"
    }
   ],
   "source": [
    "3.14159\n",
    "type(3.14159)"
   ]
  },
  {
   "cell_type": "markdown",
   "id": "45d1b0c8",
   "metadata": {
    "id": "45d1b0c8"
   },
   "source": [
    "## 數字的基本運算"
   ]
  },
  {
   "cell_type": "code",
   "execution_count": null,
   "id": "b7f69d03",
   "metadata": {
    "id": "b7f69d03"
   },
   "outputs": [],
   "source": [
    "3+7"
   ]
  },
  {
   "cell_type": "code",
   "execution_count": null,
   "id": "0bfee4d4",
   "metadata": {
    "id": "0bfee4d4"
   },
   "outputs": [],
   "source": [
    "3+7*10"
   ]
  },
  {
   "cell_type": "code",
   "execution_count": null,
   "id": "e5ca9793",
   "metadata": {
    "id": "e5ca9793"
   },
   "outputs": [],
   "source": [
    "(3+7)*10"
   ]
  },
  {
   "cell_type": "markdown",
   "id": "581b3f19",
   "metadata": {
    "id": "581b3f19"
   },
   "source": [
    "## Python的字串(String)運算\n",
    "### 在Python中，字串也能夠以運算符號(Operators)做處理，一些簡單的例子如下:"
   ]
  },
  {
   "cell_type": "code",
   "execution_count": null,
   "id": "258a329c",
   "metadata": {
    "id": "258a329c"
   },
   "outputs": [],
   "source": [
    "\"Hello\"+\"World\""
   ]
  },
  {
   "cell_type": "code",
   "execution_count": null,
   "id": "093c80ec",
   "metadata": {
    "id": "093c80ec"
   },
   "outputs": [],
   "source": [
    "\"Hello\"*3+\"World\"*3"
   ]
  },
  {
   "cell_type": "code",
   "execution_count": null,
   "id": "82f86714",
   "metadata": {
    "id": "82f86714"
   },
   "outputs": [],
   "source": [
    "(\"Hello\"+\"World\")*3"
   ]
  },
  {
   "cell_type": "code",
   "execution_count": null,
   "id": "be194606",
   "metadata": {
    "id": "be194606"
   },
   "outputs": [],
   "source": [
    "\"Hello\"+\"!\"*10"
   ]
  },
  {
   "cell_type": "code",
   "execution_count": null,
   "id": "0a449e41",
   "metadata": {
    "id": "0a449e41"
   },
   "outputs": [],
   "source": [
    "3.1415\n",
    "type(3.1415)"
   ]
  },
  {
   "cell_type": "markdown",
   "id": "84f1100e",
   "metadata": {},
   "source": [
    "## Python I/Os\n",
    "### 作為當今功能最強大的資料分析工具之一，我們常常會使用python分析我們手邊的現有數據，因此學習如何將資料輸入以及輸出相當重要，這邊介紹幾種常見的資料輸入與輸出的指令。\n",
    "### 輸入:\n",
    "### pandas.read_csv()\n",
    "### pandas.read_excel()\n",
    "### 輸出:\n",
    "### DataFrame.to_csv()\n",
    "### DataFrame.to_excel()\n",
    "### 以下為實作範例"
   ]
  },
  {
   "cell_type": "code",
   "execution_count": 1,
   "id": "e1018104",
   "metadata": {},
   "outputs": [
    {
     "data": {
      "text/plain": [
       "pandas.core.frame.DataFrame"
      ]
     },
     "execution_count": 1,
     "metadata": {},
     "output_type": "execute_result"
    }
   ],
   "source": [
    "import pandas as pd\n",
    "df =  pd.read_csv('mock_data.csv')\n",
    "type(df)"
   ]
  },
  {
   "cell_type": "code",
   "execution_count": 2,
   "id": "f2bc9c06",
   "metadata": {},
   "outputs": [],
   "source": [
    "df.to_csv('New_data.csv')"
   ]
  },
  {
   "cell_type": "markdown",
   "id": "c2afbc0f",
   "metadata": {},
   "source": [
    "### 額外補充，我們可以透過內建的os套件中的.getcwd()指令呼叫現在所在的檔案位置，相關應用如下。"
   ]
  },
  {
   "cell_type": "code",
   "execution_count": null,
   "id": "3f300336",
   "metadata": {},
   "outputs": [],
   "source": [
    "import os\n",
    "os.getcwd()\n",
    "data_dir = os.getcwd()\n",
    "df.to_csv(os.getcwd()+'/New_data.csv')"
   ]
  },
  {
   "cell_type": "markdown",
   "id": "625ba10d",
   "metadata": {},
   "source": [
    "### Q1 Python中的'3.14159'屬於哪一種資料型態?\n",
    "### a. 字串   b. 整數   c. 浮點數\n",
    "\n",
    "### Q2 實作題，請將______.csv檔讀取到Python中，並且以新檔名 result.xlsx 匯出。"
   ]
  },
  {
   "cell_type": "code",
   "execution_count": null,
   "id": "02b973dd",
   "metadata": {},
   "outputs": [],
   "source": [
    "import pandas as pd\n",
    "df = pd.read_csv('.csv')\n",
    "df.to_excel('result.xlsx')"
   ]
  },
  {
   "cell_type": "markdown",
   "id": "f85117ce",
   "metadata": {},
   "source": [
    "## 03.3 變數"
   ]
  },
  {
   "cell_type": "markdown",
   "id": "46cb9867",
   "metadata": {
    "id": "46cb9867"
   },
   "source": [
    "## 變數的應用\n",
    "### 在Python中，我們可以宣告任何的文字當成我們的變數，然後指定特定的值或字符給這些變數，範例如下:"
   ]
  },
  {
   "cell_type": "code",
   "execution_count": null,
   "id": "a948e6d8",
   "metadata": {
    "id": "a948e6d8"
   },
   "outputs": [],
   "source": [
    "x = 10\n",
    "print(x)"
   ]
  },
  {
   "cell_type": "code",
   "execution_count": null,
   "id": "162e805d",
   "metadata": {
    "id": "162e805d"
   },
   "outputs": [],
   "source": [
    "x1 = 3\n",
    "x2 = 7\n",
    "print(x1)\n",
    "print(x2)"
   ]
  },
  {
   "cell_type": "code",
   "execution_count": null,
   "id": "8ee6b577",
   "metadata": {
    "id": "8ee6b577"
   },
   "outputs": [],
   "source": [
    "y = 'Hello'\n",
    "print(y)"
   ]
  },
  {
   "cell_type": "code",
   "execution_count": null,
   "id": "62b215ca",
   "metadata": {
    "id": "62b215ca"
   },
   "outputs": [],
   "source": [
    "y1 = 'Hello'\n",
    "y2 = 'World'\n",
    "print(y1)\n",
    "print(y2)"
   ]
  },
  {
   "cell_type": "markdown",
   "id": "41b42927",
   "metadata": {
    "id": "41b42927"
   },
   "source": [
    "### 要注意的是，當我們想要宣告新的變數的時候不要去重複宣告既有的變數名稱，不然原本的變數就會被覆蓋掉，例如:"
   ]
  },
  {
   "cell_type": "code",
   "execution_count": null,
   "id": "bb9ed729",
   "metadata": {
    "id": "bb9ed729"
   },
   "outputs": [],
   "source": [
    "z = 10\n",
    "z"
   ]
  },
  {
   "cell_type": "code",
   "execution_count": null,
   "id": "025833b5",
   "metadata": {
    "id": "025833b5"
   },
   "outputs": [],
   "source": [
    "z = 10\n",
    "z = 20\n",
    "z"
   ]
  },
  {
   "cell_type": "markdown",
   "id": "997780a4",
   "metadata": {
    "id": "997780a4"
   },
   "source": [
    "### 除此之外，我們也可以對我們的變數進行運算"
   ]
  },
  {
   "cell_type": "code",
   "execution_count": null,
   "id": "a25b4720",
   "metadata": {
    "id": "a25b4720"
   },
   "outputs": [],
   "source": [
    "x1+x2"
   ]
  },
  {
   "cell_type": "code",
   "execution_count": null,
   "id": "f0afcc15",
   "metadata": {
    "id": "f0afcc15"
   },
   "outputs": [],
   "source": [
    "x1+x2*10"
   ]
  },
  {
   "cell_type": "code",
   "execution_count": null,
   "id": "f72eabb4",
   "metadata": {
    "id": "f72eabb4"
   },
   "outputs": [],
   "source": [
    "(x1+x2)*10"
   ]
  },
  {
   "cell_type": "code",
   "execution_count": null,
   "id": "55527c55",
   "metadata": {
    "id": "55527c55"
   },
   "outputs": [],
   "source": [
    "y1+y2"
   ]
  },
  {
   "cell_type": "code",
   "execution_count": null,
   "id": "0bb7a37c",
   "metadata": {
    "id": "0bb7a37c"
   },
   "outputs": [],
   "source": [
    "y1+y2*10"
   ]
  },
  {
   "cell_type": "code",
   "execution_count": null,
   "id": "3dd8052a",
   "metadata": {
    "id": "3dd8052a"
   },
   "outputs": [],
   "source": [
    "(y1+y2)*10"
   ]
  },
  {
   "cell_type": "markdown",
   "id": "7f55ae9b",
   "metadata": {
    "id": "7f55ae9b"
   },
   "source": [
    "### 當然，我們也可以把變數跟字串或數字跟變數結合進行數學運算。"
   ]
  },
  {
   "cell_type": "code",
   "execution_count": null,
   "id": "3d4441b9",
   "metadata": {
    "id": "3d4441b9"
   },
   "outputs": [],
   "source": [
    "x1+10"
   ]
  },
  {
   "cell_type": "code",
   "execution_count": null,
   "id": "17a46518",
   "metadata": {
    "id": "17a46518"
   },
   "outputs": [],
   "source": [
    "y1+'Goodbye'"
   ]
  },
  {
   "cell_type": "code",
   "execution_count": null,
   "id": "40b5ed8a",
   "metadata": {
    "id": "40b5ed8a"
   },
   "outputs": [],
   "source": [
    "r1 = 2+2\n",
    "r2 = 3+3\n",
    "r1+r2"
   ]
  },
  {
   "cell_type": "code",
   "execution_count": 3,
   "id": "e0c0e427",
   "metadata": {
    "id": "e0c0e427"
   },
   "outputs": [
    {
     "ename": "SyntaxError",
     "evalue": "cannot assign to True (<ipython-input-3-cee96fa4ba6e>, line 1)",
     "output_type": "error",
     "traceback": [
      "\u001b[1;36m  File \u001b[1;32m\"<ipython-input-3-cee96fa4ba6e>\"\u001b[1;36m, line \u001b[1;32m1\u001b[0m\n\u001b[1;33m    True = 5\u001b[0m\n\u001b[1;37m    ^\u001b[0m\n\u001b[1;31mSyntaxError\u001b[0m\u001b[1;31m:\u001b[0m cannot assign to True\n"
     ]
    }
   ],
   "source": [
    "True = 5"
   ]
  },
  {
   "cell_type": "markdown",
   "id": "3fa40687",
   "metadata": {},
   "source": [
    "## 03.4 List 列表\n",
    "## List介紹\n",
    "### 列表(List)是Python中最基本的數據結構，我們可以進行的操作包括索引，切片，加，乘等等。列表中的每一個元素被稱為item，這些item都會有他們相對應的索引(index)，要特別注意的是python中預設的index起始值是0不是1。\n"
   ]
  },
  {
   "cell_type": "code",
   "execution_count": 2,
   "id": "4715129e",
   "metadata": {},
   "outputs": [
    {
     "data": {
      "text/plain": [
       "['cat', 'dog', 'bat', 'duck']"
      ]
     },
     "execution_count": 2,
     "metadata": {},
     "output_type": "execute_result"
    }
   ],
   "source": [
    "['cat','dog','bat','duck']"
   ]
  },
  {
   "cell_type": "code",
   "execution_count": 3,
   "id": "bbf82405",
   "metadata": {},
   "outputs": [
    {
     "data": {
      "text/plain": [
       "['cat', 'dog', 'bat', 'duck']"
      ]
     },
     "execution_count": 3,
     "metadata": {},
     "output_type": "execute_result"
    }
   ],
   "source": [
    "animals = ['cat','dog','bat','duck']\n",
    "animals"
   ]
  },
  {
   "cell_type": "markdown",
   "id": "419fa0c6",
   "metadata": {},
   "source": [
    "### 我們可以透過在變數後加入中括號以及index的方式檢索特定的item"
   ]
  },
  {
   "cell_type": "code",
   "execution_count": 4,
   "id": "faa2b043",
   "metadata": {},
   "outputs": [
    {
     "data": {
      "text/plain": [
       "'cat'"
      ]
     },
     "execution_count": 4,
     "metadata": {},
     "output_type": "execute_result"
    }
   ],
   "source": [
    "animals[0]"
   ]
  },
  {
   "cell_type": "code",
   "execution_count": 5,
   "id": "ec3e0920",
   "metadata": {},
   "outputs": [
    {
     "data": {
      "text/plain": [
       "'bat'"
      ]
     },
     "execution_count": 5,
     "metadata": {},
     "output_type": "execute_result"
    }
   ],
   "source": [
    "animals[2]"
   ]
  },
  {
   "cell_type": "markdown",
   "id": "c215edcc",
   "metadata": {},
   "source": [
    "### 列表中也能包含多個列表，例如:"
   ]
  },
  {
   "cell_type": "code",
   "execution_count": 6,
   "id": "642dcd84",
   "metadata": {},
   "outputs": [],
   "source": [
    "animals = [['cat','dog','bat','duck'],['fish','shark','whale','blowfish']]"
   ]
  },
  {
   "cell_type": "code",
   "execution_count": 7,
   "id": "71c8ebc5",
   "metadata": {},
   "outputs": [
    {
     "data": {
      "text/plain": [
       "[['cat', 'dog', 'bat', 'duck'], ['fish', 'shark', 'whale', 'blowfish']]"
      ]
     },
     "execution_count": 7,
     "metadata": {},
     "output_type": "execute_result"
    }
   ],
   "source": [
    "animals"
   ]
  },
  {
   "cell_type": "code",
   "execution_count": 8,
   "id": "3ec22e33",
   "metadata": {},
   "outputs": [
    {
     "data": {
      "text/plain": [
       "['cat', 'dog', 'bat', 'duck']"
      ]
     },
     "execution_count": 8,
     "metadata": {},
     "output_type": "execute_result"
    }
   ],
   "source": [
    "animals[0]"
   ]
  },
  {
   "cell_type": "code",
   "execution_count": 9,
   "id": "8a1f2283",
   "metadata": {},
   "outputs": [
    {
     "data": {
      "text/plain": [
       "['fish', 'shark', 'whale', 'blowfish']"
      ]
     },
     "execution_count": 9,
     "metadata": {},
     "output_type": "execute_result"
    }
   ],
   "source": [
    "animals[1]"
   ]
  },
  {
   "cell_type": "markdown",
   "id": "7a93aa3b",
   "metadata": {},
   "source": [
    "### 在animals這個列表中包含了兩個額外列表，而他們的index也分別是0跟1，我們除了呼叫這些列表出來以外，也可以呼叫這些列表中的個別item:"
   ]
  },
  {
   "cell_type": "code",
   "execution_count": 18,
   "id": "1cbdef19",
   "metadata": {},
   "outputs": [
    {
     "data": {
      "text/plain": [
       "'bat'"
      ]
     },
     "execution_count": 18,
     "metadata": {},
     "output_type": "execute_result"
    }
   ],
   "source": [
    "animals[0][2]"
   ]
  },
  {
   "cell_type": "code",
   "execution_count": 12,
   "id": "1deb9f11",
   "metadata": {},
   "outputs": [
    {
     "data": {
      "text/plain": [
       "'blowfish'"
      ]
     },
     "execution_count": 12,
     "metadata": {},
     "output_type": "execute_result"
    }
   ],
   "source": [
    "animals[1][3]"
   ]
  },
  {
   "cell_type": "markdown",
   "id": "fbe7e996",
   "metadata": {},
   "source": [
    "### 或者也可以用負號代表反序的方式呼叫item，如下例子我們的-1代表倒數第一個item，-2是倒數第二，以此類推"
   ]
  },
  {
   "cell_type": "code",
   "execution_count": 13,
   "id": "f5f9d3dc",
   "metadata": {},
   "outputs": [
    {
     "data": {
      "text/plain": [
       "['fish', 'shark', 'whale', 'blowfish']"
      ]
     },
     "execution_count": 13,
     "metadata": {},
     "output_type": "execute_result"
    }
   ],
   "source": [
    "animals[-1]"
   ]
  },
  {
   "cell_type": "code",
   "execution_count": 16,
   "id": "f2996406",
   "metadata": {},
   "outputs": [
    {
     "data": {
      "text/plain": [
       "'whale'"
      ]
     },
     "execution_count": 16,
     "metadata": {},
     "output_type": "execute_result"
    }
   ],
   "source": [
    "animals[-1][-2]"
   ]
  },
  {
   "cell_type": "markdown",
   "id": "0e88c488",
   "metadata": {},
   "source": [
    "### 或者用冒號(:)來呼叫負數個item，注意一樣是從0開始，且不包含結尾的index，例如[0:3]代表呼叫list中index為0,1,2的item。"
   ]
  },
  {
   "cell_type": "code",
   "execution_count": 20,
   "id": "3a9736f0",
   "metadata": {},
   "outputs": [
    {
     "data": {
      "text/plain": [
       "['cat', 'dog', 'bat']"
      ]
     },
     "execution_count": 20,
     "metadata": {},
     "output_type": "execute_result"
    }
   ],
   "source": [
    "animals = ['cat', 'dog', 'bat', 'duck']\n",
    "animals[0:3]"
   ]
  },
  {
   "cell_type": "markdown",
   "id": "16552bdf",
   "metadata": {},
   "source": [
    "### 也可以省略冒號左邊或右邊的數字，這時候就會使用python預設的第一及最後一個item。"
   ]
  },
  {
   "cell_type": "code",
   "execution_count": 39,
   "id": "8d4b5120",
   "metadata": {},
   "outputs": [
    {
     "data": {
      "text/plain": [
       "['cat', 'dog']"
      ]
     },
     "execution_count": 39,
     "metadata": {},
     "output_type": "execute_result"
    }
   ],
   "source": [
    "animals[:2]"
   ]
  },
  {
   "cell_type": "code",
   "execution_count": 40,
   "id": "3315af06",
   "metadata": {},
   "outputs": [
    {
     "data": {
      "text/plain": [
       "['dog', 'bat', 'duck']"
      ]
     },
     "execution_count": 40,
     "metadata": {},
     "output_type": "execute_result"
    }
   ],
   "source": [
    "animals[1:]"
   ]
  },
  {
   "cell_type": "markdown",
   "id": "7c117633",
   "metadata": {},
   "source": [
    "### 對單獨的item進行字串的運算:"
   ]
  },
  {
   "cell_type": "code",
   "execution_count": 17,
   "id": "a30de3b9",
   "metadata": {},
   "outputs": [
    {
     "data": {
      "text/plain": [
       "'The fish is afraid of whale.'"
      ]
     },
     "execution_count": 17,
     "metadata": {},
     "output_type": "execute_result"
    }
   ],
   "source": [
    "'The '+animals[1][0]+' is afraid of '+animals[1][2]+'.'"
   ]
  },
  {
   "cell_type": "markdown",
   "id": "d93d8523",
   "metadata": {},
   "source": [
    "## 改變list中的item"
   ]
  },
  {
   "cell_type": "code",
   "execution_count": 37,
   "id": "850ff227",
   "metadata": {},
   "outputs": [
    {
     "data": {
      "text/plain": [
       "[10, 'Hello', 30, 40]"
      ]
     },
     "execution_count": 37,
     "metadata": {},
     "output_type": "execute_result"
    }
   ],
   "source": [
    "spam = [10,20,30,40]\n",
    "spam[1] = 'Hello'\n",
    "spam"
   ]
  },
  {
   "cell_type": "code",
   "execution_count": 38,
   "id": "766c33d6",
   "metadata": {},
   "outputs": [
    {
     "data": {
      "text/plain": [
       "[10, 'dog', 'cat', 40]"
      ]
     },
     "execution_count": 38,
     "metadata": {},
     "output_type": "execute_result"
    }
   ],
   "source": [
    "spam[1:3] = ['dog','cat']\n",
    "spam"
   ]
  },
  {
   "cell_type": "markdown",
   "id": "e715cd8c",
   "metadata": {},
   "source": [
    "## 刪除list中的item"
   ]
  },
  {
   "cell_type": "code",
   "execution_count": 42,
   "id": "e2f3c8dd",
   "metadata": {},
   "outputs": [
    {
     "data": {
      "text/plain": [
       "['cat', 'dog', 'duck']"
      ]
     },
     "execution_count": 42,
     "metadata": {},
     "output_type": "execute_result"
    }
   ],
   "source": [
    "animals = ['cat', 'dog', 'bat', 'duck']\n",
    "del animals[2]\n",
    "animals"
   ]
  },
  {
   "cell_type": "markdown",
   "id": "f48737c8",
   "metadata": {},
   "source": [
    "## 宣告變數為list中的特定item"
   ]
  },
  {
   "cell_type": "code",
   "execution_count": 65,
   "id": "e36a432b",
   "metadata": {},
   "outputs": [],
   "source": [
    "cat = ['fat','orange','loud']\n",
    "size = cat[0]\n",
    "color = cat[1]\n",
    "disposition = cat[2]"
   ]
  },
  {
   "cell_type": "code",
   "execution_count": 66,
   "id": "5e9dafba",
   "metadata": {},
   "outputs": [
    {
     "data": {
      "text/plain": [
       "('fat', 'orange', 'loud')"
      ]
     },
     "execution_count": 66,
     "metadata": {},
     "output_type": "execute_result"
    }
   ],
   "source": [
    "size,color,disposition"
   ]
  },
  {
   "cell_type": "code",
   "execution_count": 69,
   "id": "1cea773a",
   "metadata": {},
   "outputs": [
    {
     "data": {
      "text/plain": [
       "('fat', 'orange', 'loud')"
      ]
     },
     "execution_count": 69,
     "metadata": {},
     "output_type": "execute_result"
    }
   ],
   "source": [
    "# 一次指派多個\n",
    "size,color,disposition = cat\n",
    "size,color,disposition"
   ]
  },
  {
   "cell_type": "markdown",
   "id": "21e525fa",
   "metadata": {},
   "source": [
    "## list和string的比較"
   ]
  },
  {
   "cell_type": "code",
   "execution_count": 45,
   "id": "b248299e",
   "metadata": {},
   "outputs": [
    {
     "name": "stdout",
     "output_type": "stream",
     "text": [
      "5\n",
      "1\n"
     ]
    }
   ],
   "source": [
    "# 計算長度\n",
    "print(len('Hello')) # 單一字串的長度\n",
    "print(len(['Hello'])) # list中的item數量"
   ]
  },
  {
   "cell_type": "code",
   "execution_count": 46,
   "id": "a532448a",
   "metadata": {},
   "outputs": [
    {
     "name": "stdout",
     "output_type": "stream",
     "text": [
      "HelloWorld\n",
      "[1, 2, 3, 4, 5, 6, 7]\n"
     ]
    }
   ],
   "source": [
    "# 相加\n",
    "print(\"Hello\"+'World')\n",
    "print([1,2,3,4]+[5,6,7])"
   ]
  },
  {
   "cell_type": "code",
   "execution_count": 47,
   "id": "08497699",
   "metadata": {},
   "outputs": [
    {
     "name": "stdout",
     "output_type": "stream",
     "text": [
      "HelloHelloHello\n",
      "[1, 2, 3, 1, 2, 3, 1, 2, 3]\n"
     ]
    }
   ],
   "source": [
    "# 相乘\n",
    "print(\"Hello\"*3)\n",
    "print([1,2,3]*3)"
   ]
  },
  {
   "cell_type": "markdown",
   "id": "0807b96f",
   "metadata": {},
   "source": [
    "### 我們還可以透過list()函式來將字串或數字轉換成list"
   ]
  },
  {
   "cell_type": "markdown",
   "id": "b750bccc",
   "metadata": {},
   "source": [
    "### 我們前面說過，可以透過中括號中的數字呼叫list中的item，而字串也有類似的功能。"
   ]
  },
  {
   "cell_type": "code",
   "execution_count": 2,
   "id": "bb70d98f",
   "metadata": {},
   "outputs": [
    {
     "data": {
      "text/plain": [
       "'h'"
      ]
     },
     "execution_count": 2,
     "metadata": {},
     "output_type": "execute_result"
    }
   ],
   "source": [
    "string = 'Zophie'\n",
    "string[3]\n"
   ]
  },
  {
   "cell_type": "code",
   "execution_count": 3,
   "id": "7221f764",
   "metadata": {},
   "outputs": [
    {
     "data": {
      "text/plain": [
       "'Zop'"
      ]
     },
     "execution_count": 3,
     "metadata": {},
     "output_type": "execute_result"
    }
   ],
   "source": [
    "string[0:3]"
   ]
  },
  {
   "cell_type": "markdown",
   "id": "910e3c1d",
   "metadata": {},
   "source": [
    "### 與列表不同的是，我們無法透過這種方法指定新的字串取代原本的字串，但是可以透過+運算符來插入字串。"
   ]
  },
  {
   "cell_type": "code",
   "execution_count": 4,
   "id": "56e856f4",
   "metadata": {},
   "outputs": [
    {
     "ename": "TypeError",
     "evalue": "'str' object does not support item assignment",
     "output_type": "error",
     "traceback": [
      "\u001b[1;31m---------------------------------------------------------------------------\u001b[0m",
      "\u001b[1;31mTypeError\u001b[0m                                 Traceback (most recent call last)",
      "\u001b[1;32m<ipython-input-4-a3aa5090d88a>\u001b[0m in \u001b[0;36m<module>\u001b[1;34m\u001b[0m\n\u001b[1;32m----> 1\u001b[1;33m \u001b[0mstring\u001b[0m\u001b[1;33m[\u001b[0m\u001b[1;36m0\u001b[0m\u001b[1;33m]\u001b[0m \u001b[1;33m=\u001b[0m \u001b[1;34m'L'\u001b[0m\u001b[1;33m\u001b[0m\u001b[1;33m\u001b[0m\u001b[0m\n\u001b[0m",
      "\u001b[1;31mTypeError\u001b[0m: 'str' object does not support item assignment"
     ]
    }
   ],
   "source": [
    "string[0] = 'L'"
   ]
  },
  {
   "cell_type": "code",
   "execution_count": 15,
   "id": "84afbe43",
   "metadata": {},
   "outputs": [
    {
     "data": {
      "text/plain": [
       "'Zophie the cat'"
      ]
     },
     "execution_count": 15,
     "metadata": {},
     "output_type": "execute_result"
    }
   ],
   "source": [
    "name = 'Zophie a cat'\n",
    "name[0:6]+' the '+name[9:12]"
   ]
  },
  {
   "cell_type": "code",
   "execution_count": 50,
   "id": "7eb6b665",
   "metadata": {},
   "outputs": [
    {
     "data": {
      "text/plain": [
       "['H', 'e', 'l', 'l', 'o']"
      ]
     },
     "execution_count": 50,
     "metadata": {},
     "output_type": "execute_result"
    }
   ],
   "source": [
    "my_list = list('Hello')\n",
    "my_list"
   ]
  },
  {
   "cell_type": "markdown",
   "id": "073bfac5",
   "metadata": {},
   "source": [
    "### 也可以加入前面我們教過的布林運算符號，來對list進行邏輯判斷"
   ]
  },
  {
   "cell_type": "code",
   "execution_count": 51,
   "id": "a42f1786",
   "metadata": {},
   "outputs": [
    {
     "data": {
      "text/plain": [
       "False"
      ]
     },
     "execution_count": 51,
     "metadata": {},
     "output_type": "execute_result"
    }
   ],
   "source": [
    "'Hello' in my_list"
   ]
  },
  {
   "cell_type": "code",
   "execution_count": 55,
   "id": "ba66101d",
   "metadata": {},
   "outputs": [
    {
     "data": {
      "text/plain": [
       "True"
      ]
     },
     "execution_count": 55,
     "metadata": {},
     "output_type": "execute_result"
    }
   ],
   "source": [
    "'Hello' not in my_list"
   ]
  },
  {
   "cell_type": "code",
   "execution_count": 52,
   "id": "b8368048",
   "metadata": {},
   "outputs": [
    {
     "data": {
      "text/plain": [
       "True"
      ]
     },
     "execution_count": 52,
     "metadata": {},
     "output_type": "execute_result"
    }
   ],
   "source": [
    "'H' in my_list"
   ]
  },
  {
   "cell_type": "code",
   "execution_count": 53,
   "id": "30ff2008",
   "metadata": {},
   "outputs": [
    {
     "data": {
      "text/plain": [
       "False"
      ]
     },
     "execution_count": 53,
     "metadata": {},
     "output_type": "execute_result"
    }
   ],
   "source": [
    "nums = [1,2,3,4]\n",
    "5 in nums"
   ]
  },
  {
   "cell_type": "code",
   "execution_count": 6,
   "id": "c2c0fc90",
   "metadata": {},
   "outputs": [
    {
     "data": {
      "text/plain": [
       "True"
      ]
     },
     "execution_count": 6,
     "metadata": {},
     "output_type": "execute_result"
    }
   ],
   "source": [
    "string = 'Zophie the cat'\n",
    "'cat' in string"
   ]
  },
  {
   "cell_type": "code",
   "execution_count": 7,
   "id": "2da8cc83",
   "metadata": {},
   "outputs": [
    {
     "data": {
      "text/plain": [
       "True"
      ]
     },
     "execution_count": 7,
     "metadata": {},
     "output_type": "execute_result"
    }
   ],
   "source": [
    "' ' in string"
   ]
  },
  {
   "cell_type": "code",
   "execution_count": 9,
   "id": "123a9f24",
   "metadata": {},
   "outputs": [
    {
     "data": {
      "text/plain": [
       "True"
      ]
     },
     "execution_count": 9,
     "metadata": {},
     "output_type": "execute_result"
    }
   ],
   "source": [
    "'ca' in string"
   ]
  },
  {
   "cell_type": "code",
   "execution_count": 10,
   "id": "2465eedb",
   "metadata": {},
   "outputs": [
    {
     "data": {
      "text/plain": [
       "True"
      ]
     },
     "execution_count": 10,
     "metadata": {},
     "output_type": "execute_result"
    }
   ],
   "source": [
    "list_ = ['Zophie','the','cat']\n",
    "'cat' in list_"
   ]
  },
  {
   "cell_type": "code",
   "execution_count": 11,
   "id": "aadbaea4",
   "metadata": {},
   "outputs": [
    {
     "data": {
      "text/plain": [
       "False"
      ]
     },
     "execution_count": 11,
     "metadata": {},
     "output_type": "execute_result"
    }
   ],
   "source": [
    "'ca' in list_"
   ]
  },
  {
   "cell_type": "code",
   "execution_count": 23,
   "id": "28d276ff",
   "metadata": {},
   "outputs": [],
   "source": [
    "spam = [1,2,3,4]\n",
    "cheese = spam\n",
    "cheese[2] = 'Hello'"
   ]
  },
  {
   "cell_type": "code",
   "execution_count": 24,
   "id": "ed66ec16",
   "metadata": {},
   "outputs": [
    {
     "data": {
      "text/plain": [
       "[1, 2, 'Hello', 4]"
      ]
     },
     "execution_count": 24,
     "metadata": {},
     "output_type": "execute_result"
    }
   ],
   "source": [
    "cheese"
   ]
  },
  {
   "cell_type": "code",
   "execution_count": 25,
   "id": "5261ad14",
   "metadata": {},
   "outputs": [
    {
     "data": {
      "text/plain": [
       "[1, 2, 'Hello', 4]"
      ]
     },
     "execution_count": 25,
     "metadata": {},
     "output_type": "execute_result"
    }
   ],
   "source": [
    "spam"
   ]
  },
  {
   "cell_type": "code",
   "execution_count": 54,
   "id": "44dee492",
   "metadata": {},
   "outputs": [
    {
     "data": {
      "text/plain": [
       "True"
      ]
     },
     "execution_count": 54,
     "metadata": {},
     "output_type": "execute_result"
    }
   ],
   "source": [
    "## 布林運算\n",
    "\n",
    "string = 'Zophie the cat'\n",
    "'cat' in string\n",
    "\n",
    "' ' in string\n",
    "\n",
    "'ca' in string\n",
    "\n",
    "list_ = ['Zophie','the','cat']\n",
    "'cat' in list_\n",
    "\n",
    "'ca' in list_\n",
    "\n",
    "spam = [1,2,3,4]\n",
    "cheese = spam\n",
    "cheese[2] = 'Hello'\n",
    "\n",
    "cheese\n",
    "\n",
    "spam"
   ]
  },
  {
   "cell_type": "markdown",
   "id": "2bccd27f",
   "metadata": {},
   "source": [
    "## list在迴圈中的應用\n",
    "### 還記得我們在先前迴圈中用到range()函示嗎?我們也可以透過list來達成和range()一樣的效果"
   ]
  },
  {
   "cell_type": "code",
   "execution_count": 56,
   "id": "86e1328d",
   "metadata": {},
   "outputs": [
    {
     "name": "stdout",
     "output_type": "stream",
     "text": [
      "0\n",
      "1\n",
      "2\n",
      "3\n",
      "4\n"
     ]
    }
   ],
   "source": [
    "for i in range(0,5):\n",
    "    print(i)"
   ]
  },
  {
   "cell_type": "code",
   "execution_count": 57,
   "id": "d1dab08e",
   "metadata": {},
   "outputs": [
    {
     "name": "stdout",
     "output_type": "stream",
     "text": [
      "0\n",
      "1\n",
      "2\n",
      "3\n",
      "4\n"
     ]
    }
   ],
   "source": [
    "for i in [0,1,2,3,4]:\n",
    "    print(i)"
   ]
  },
  {
   "cell_type": "markdown",
   "id": "5c247d86",
   "metadata": {},
   "source": [
    "### 如同我們前面說的range是一個相當特殊的資料型態，他與list不同，但是非常相近，我們可以直接用list()函式直接將range型態的資料進行轉換。"
   ]
  },
  {
   "cell_type": "code",
   "execution_count": 62,
   "id": "46d55a90",
   "metadata": {},
   "outputs": [
    {
     "name": "stdout",
     "output_type": "stream",
     "text": [
      "range(0, 5)\n",
      "range(0, 10, 2)\n"
     ]
    }
   ],
   "source": [
    "print(range(0,5))\n",
    "print(range(0,10,2))"
   ]
  },
  {
   "cell_type": "code",
   "execution_count": 58,
   "id": "77e8e0f9",
   "metadata": {},
   "outputs": [
    {
     "data": {
      "text/plain": [
       "[0, 1, 2, 3, 4]"
      ]
     },
     "execution_count": 58,
     "metadata": {},
     "output_type": "execute_result"
    }
   ],
   "source": [
    "list(range(0,5))"
   ]
  },
  {
   "cell_type": "code",
   "execution_count": 60,
   "id": "09b3999e",
   "metadata": {},
   "outputs": [
    {
     "data": {
      "text/plain": [
       "[0, 2, 4, 6, 8]"
      ]
     },
     "execution_count": 60,
     "metadata": {},
     "output_type": "execute_result"
    }
   ],
   "source": [
    "list(range(0,10,2))"
   ]
  },
  {
   "cell_type": "markdown",
   "id": "aca39cd7",
   "metadata": {},
   "source": [
    "### 而迴圈中的list也不只可以存放數字，字串當然也可以，例如:"
   ]
  },
  {
   "cell_type": "code",
   "execution_count": 63,
   "id": "651b5afa",
   "metadata": {},
   "outputs": [
    {
     "name": "stdout",
     "output_type": "stream",
     "text": [
      "pens\n",
      "staplers\n",
      "flame-throwers\n",
      "binders\n"
     ]
    }
   ],
   "source": [
    "supplies = ['pens','staplers','flame-throwers','binders']\n",
    "for i in supplies:\n",
    "    print(i)"
   ]
  },
  {
   "cell_type": "markdown",
   "id": "dbd0714b",
   "metadata": {},
   "source": [
    "### 或者是與len()和range()函式的混和應用"
   ]
  },
  {
   "cell_type": "code",
   "execution_count": 64,
   "id": "f9868f19",
   "metadata": {},
   "outputs": [
    {
     "name": "stdout",
     "output_type": "stream",
     "text": [
      "Index 0 in supplies is: pens\n",
      "Index 1 in supplies is: staplers\n",
      "Index 2 in supplies is: flame-throwers\n",
      "Index 3 in supplies is: binders\n"
     ]
    }
   ],
   "source": [
    "for i in range(len(supplies)):\n",
    "    print('Index '+str(i)+' in supplies is: '+supplies[i])"
   ]
  },
  {
   "attachments": {
    "image.png": {
     "image/png": "[encoded data removed]"
    }
   },
   "cell_type": "markdown",
   "id": "d0980cb6",
   "metadata": {},
   "source": [
    "## 擴充算子(Augmented Operators)\n",
    "### 擴充算子能夠幫助我們對單一變數進行複數次的同樣的字算，這在迴圈中尤其常見，可以增加我們的運算效率。以下為常見的擴充算子符號與在迴圈中的應用。\n",
    "![image.png](attachment:image.png)"
   ]
  },
  {
   "cell_type": "code",
   "execution_count": 72,
   "id": "98e61fdc",
   "metadata": {},
   "outputs": [
    {
     "name": "stdout",
     "output_type": "stream",
     "text": [
      "1\n",
      "2\n",
      "3\n",
      "4\n",
      "5\n"
     ]
    }
   ],
   "source": [
    "spam = 0\n",
    "for i in range(0,5):\n",
    "    spam+=1\n",
    "    print(spam)"
   ]
  },
  {
   "cell_type": "markdown",
   "id": "d8a4163e",
   "metadata": {},
   "source": [
    "## 關於list的衍生指令\n",
    "### .index()\n",
    "### 能夠查找特定item的所在位置，但是只會顯示第一個找到的item"
   ]
  },
  {
   "cell_type": "code",
   "execution_count": 75,
   "id": "7a2e367b",
   "metadata": {},
   "outputs": [
    {
     "data": {
      "text/plain": [
       "0"
      ]
     },
     "execution_count": 75,
     "metadata": {},
     "output_type": "execute_result"
    }
   ],
   "source": [
    "spam = ['hello','hi','howdy']\n",
    "spam.index('hello')"
   ]
  },
  {
   "cell_type": "code",
   "execution_count": 78,
   "id": "71726945",
   "metadata": {},
   "outputs": [
    {
     "data": {
      "text/plain": [
       "1"
      ]
     },
     "execution_count": 78,
     "metadata": {},
     "output_type": "execute_result"
    }
   ],
   "source": [
    "spam = ['hi','hello','howdy','hello']\n",
    "spam.index('hello') #只會顯示第一個hello的index"
   ]
  },
  {
   "cell_type": "markdown",
   "id": "a6ad28d3",
   "metadata": {},
   "source": [
    "### .append()\n",
    "### 用來合併新的item"
   ]
  },
  {
   "cell_type": "code",
   "execution_count": 80,
   "id": "49350526",
   "metadata": {},
   "outputs": [
    {
     "data": {
      "text/plain": [
       "['cat', 'dog', 'bat', 'duck', 'bird']"
      ]
     },
     "execution_count": 80,
     "metadata": {},
     "output_type": "execute_result"
    }
   ],
   "source": [
    "spam = ['cat', 'dog', 'bat', 'duck']\n",
    "spam.append('bird')\n",
    "spam"
   ]
  },
  {
   "cell_type": "code",
   "execution_count": 87,
   "id": "1da35a6f",
   "metadata": {},
   "outputs": [
    {
     "data": {
      "text/plain": [
       "['cat', 'dog', 'bat', 'duck', 'bird', 'bird', 'bird', 'bird', 'bird']"
      ]
     },
     "execution_count": 87,
     "metadata": {},
     "output_type": "execute_result"
    }
   ],
   "source": [
    "spam = ['cat', 'dog', 'bat', 'duck']\n",
    "spam.append('bird')\n",
    "spam.append('bird')\n",
    "spam.append('bird')\n",
    "spam.append('bird')\n",
    "spam.append('bird') #可以重複連結好幾次\n",
    "spam"
   ]
  },
  {
   "cell_type": "markdown",
   "id": "faac91ad",
   "metadata": {},
   "source": [
    "### .insert()\n",
    "### 可以在特定位置插入特定的item"
   ]
  },
  {
   "cell_type": "code",
   "execution_count": 84,
   "id": "f9fe7b86",
   "metadata": {},
   "outputs": [
    {
     "data": {
      "text/plain": [
       "['cat', 'whale', 'dog', 'bat', 'duck']"
      ]
     },
     "execution_count": 84,
     "metadata": {},
     "output_type": "execute_result"
    }
   ],
   "source": [
    "spam = ['cat', 'dog', 'bat', 'duck']\n",
    "spam.insert(1,'whale') #要指定插入的位置\n",
    "spam"
   ]
  },
  {
   "cell_type": "markdown",
   "id": "20e14c7b",
   "metadata": {},
   "source": [
    "### .remove()\n",
    "### 該指令可以移除list中的特定item，與先前介紹的del指令類似。"
   ]
  },
  {
   "cell_type": "code",
   "execution_count": 88,
   "id": "8b4bdcf8",
   "metadata": {},
   "outputs": [
    {
     "data": {
      "text/plain": [
       "['cat', 'dog', 'duck']"
      ]
     },
     "execution_count": 88,
     "metadata": {},
     "output_type": "execute_result"
    }
   ],
   "source": [
    "spam = ['cat', 'dog', 'bat', 'duck']\n",
    "spam.remove('bat')\n",
    "spam"
   ]
  },
  {
   "cell_type": "code",
   "execution_count": 89,
   "id": "6c97a3aa",
   "metadata": {},
   "outputs": [
    {
     "data": {
      "text/plain": [
       "['dog', 'bat', 'duck', 'cat']"
      ]
     },
     "execution_count": 89,
     "metadata": {},
     "output_type": "execute_result"
    }
   ],
   "source": [
    "spam = ['cat', 'dog', 'bat', 'duck','cat']\n",
    "spam.remove('cat') #一樣只會remove第一個cat\n",
    "spam"
   ]
  },
  {
   "cell_type": "markdown",
   "id": "7567ee0f",
   "metadata": {},
   "source": [
    "### .sort()\n",
    "### 該指令可以幫助我們對list進行排序，排序依據可以是數字大小，也可以是英文的大小寫排序。"
   ]
  },
  {
   "cell_type": "code",
   "execution_count": 92,
   "id": "30ff3a99",
   "metadata": {},
   "outputs": [
    {
     "data": {
      "text/plain": [
       "[1, 2, 4, 6, 10]"
      ]
     },
     "execution_count": 92,
     "metadata": {},
     "output_type": "execute_result"
    }
   ],
   "source": [
    "# 正序\n",
    "spam = [1,4,2,10,6]\n",
    "spam.sort()\n",
    "spam"
   ]
  },
  {
   "cell_type": "code",
   "execution_count": 93,
   "id": "30fce3b2",
   "metadata": {},
   "outputs": [
    {
     "data": {
      "text/plain": [
       "[10, 6, 4, 2, 1]"
      ]
     },
     "execution_count": 93,
     "metadata": {},
     "output_type": "execute_result"
    }
   ],
   "source": [
    "# 反序\n",
    "spam = [1,4,2,10,6]\n",
    "spam.sort(reverse = True)\n",
    "spam"
   ]
  },
  {
   "cell_type": "code",
   "execution_count": 95,
   "id": "6bac9310",
   "metadata": {},
   "outputs": [
    {
     "data": {
      "text/plain": [
       "['antilope', 'bat', 'cat', 'dog', 'elephant']"
      ]
     },
     "execution_count": 95,
     "metadata": {},
     "output_type": "execute_result"
    }
   ],
   "source": [
    "# 英文\n",
    "spam = ['cat', 'dog', 'bat', 'elephant','antilope']\n",
    "spam.sort()\n",
    "spam"
   ]
  },
  {
   "cell_type": "code",
   "execution_count": 98,
   "id": "27cbad1e",
   "metadata": {},
   "outputs": [
    {
     "data": {
      "text/plain": [
       "['A', 'Z', 'a', 'z']"
      ]
     },
     "execution_count": 98,
     "metadata": {},
     "output_type": "execute_result"
    }
   ],
   "source": [
    "spam = ['a','Z','z','A']\n",
    "spam.sort()\n",
    "spam"
   ]
  },
  {
   "cell_type": "markdown",
   "id": "4fbf4852",
   "metadata": {},
   "source": [
    "### 從上面這個例子我們可以看到，大寫的順位會比較前面，如果要無視大小寫只用字母順序排序則要用以下方式表達:"
   ]
  },
  {
   "cell_type": "code",
   "execution_count": 100,
   "id": "485760a2",
   "metadata": {},
   "outputs": [
    {
     "data": {
      "text/plain": [
       "['a', 'A', 'Z', 'z']"
      ]
     },
     "execution_count": 100,
     "metadata": {},
     "output_type": "execute_result"
    }
   ],
   "source": [
    "spam = ['a','Z','z','A']\n",
    "spam.sort(key = str.lower)\n",
    "spam"
   ]
  },
  {
   "cell_type": "code",
   "execution_count": 1,
   "id": "cd749ae0",
   "metadata": {},
   "outputs": [
    {
     "data": {
      "text/plain": [
       "[1, 'Hello', 3, 4]"
      ]
     },
     "execution_count": 1,
     "metadata": {},
     "output_type": "execute_result"
    }
   ],
   "source": [
    "spam = [1,2,3,4]\n",
    "cheese = spam \n",
    "cheese[1] = 'Hello'\n",
    "spam"
   ]
  },
  {
   "cell_type": "markdown",
   "id": "9398528d",
   "metadata": {},
   "source": [
    "## 字串(String)與列表(List)的同異\n",
    "### 我們知道，列表是最常見也是最簡易的資料儲存格式之一，而字串則是文字存放的最小單位，我們在編寫程式的時候會頻繁的針對這兩個項目進行修改或編譯，因此這邊會針對這兩個項目做一些整理與比較，讓讀者能夠清楚分辨兩者的差異。"
   ]
  },
  {
   "cell_type": "markdown",
   "id": "53482fd2",
   "metadata": {},
   "source": [
    "### 我們前面說過，可以透過中括號中的數字呼叫list中的item，而字串也有類似的功能。"
   ]
  },
  {
   "cell_type": "code",
   "execution_count": 2,
   "id": "913772f7",
   "metadata": {},
   "outputs": [
    {
     "data": {
      "text/plain": [
       "'h'"
      ]
     },
     "execution_count": 2,
     "metadata": {},
     "output_type": "execute_result"
    }
   ],
   "source": [
    "string = 'Zophie'\n",
    "string[3]"
   ]
  },
  {
   "cell_type": "code",
   "execution_count": 3,
   "id": "c1ef0a60",
   "metadata": {},
   "outputs": [
    {
     "data": {
      "text/plain": [
       "'Zop'"
      ]
     },
     "execution_count": 3,
     "metadata": {},
     "output_type": "execute_result"
    }
   ],
   "source": [
    "string[0:3]"
   ]
  },
  {
   "cell_type": "markdown",
   "id": "0340d1b1",
   "metadata": {},
   "source": [
    "### 與列表不同的是，我們無法透過這種方法指定新的字串取代原本的字串，但是可以透過+運算符來插入字串。"
   ]
  },
  {
   "cell_type": "code",
   "execution_count": 4,
   "id": "a66dcb2d",
   "metadata": {},
   "outputs": [
    {
     "ename": "TypeError",
     "evalue": "'str' object does not support item assignment",
     "output_type": "error",
     "traceback": [
      "\u001b[1;31m---------------------------------------------------------------------------\u001b[0m",
      "\u001b[1;31mTypeError\u001b[0m                                 Traceback (most recent call last)",
      "\u001b[1;32m<ipython-input-4-a3aa5090d88a>\u001b[0m in \u001b[0;36m<module>\u001b[1;34m\u001b[0m\n\u001b[1;32m----> 1\u001b[1;33m \u001b[0mstring\u001b[0m\u001b[1;33m[\u001b[0m\u001b[1;36m0\u001b[0m\u001b[1;33m]\u001b[0m \u001b[1;33m=\u001b[0m \u001b[1;34m'L'\u001b[0m\u001b[1;33m\u001b[0m\u001b[1;33m\u001b[0m\u001b[0m\n\u001b[0m",
      "\u001b[1;31mTypeError\u001b[0m: 'str' object does not support item assignment"
     ]
    }
   ],
   "source": [
    "string[0] = 'L'"
   ]
  },
  {
   "cell_type": "code",
   "execution_count": 15,
   "id": "6e656cab",
   "metadata": {},
   "outputs": [
    {
     "data": {
      "text/plain": [
       "'Zophie the cat'"
      ]
     },
     "execution_count": 15,
     "metadata": {},
     "output_type": "execute_result"
    }
   ],
   "source": [
    "name = 'Zophie a cat'\n",
    "name[0:6]+' the '+name[9:12]"
   ]
  },
  {
   "cell_type": "markdown",
   "id": "e46020fb",
   "metadata": {},
   "source": [
    "## 列表的儲存特性\n",
    "### 列表有一個相當重要且有趣的儲存特性，我們先看以下範例:"
   ]
  },
  {
   "cell_type": "code",
   "execution_count": 29,
   "id": "66e9fc1f",
   "metadata": {},
   "outputs": [
    {
     "data": {
      "text/plain": [
       "['Hello', 2, 3, 4]"
      ]
     },
     "execution_count": 29,
     "metadata": {},
     "output_type": "execute_result"
    }
   ],
   "source": [
    "spam = [1,2,3,4]\n",
    "cheese = spam\n",
    "cheese[0] = 'Hello'\n",
    "spam"
   ]
  },
  {
   "attachments": {
    "image.png": {
     "image/png": "[encoded data removed]"
    }
   },
   "cell_type": "markdown",
   "id": "cc28cc2f",
   "metadata": {},
   "source": [
    "### 可以從上面的例子中發現，我們在修改cheese這個list的時候，原先的spam list也跟著改變了，這是因為當我們用等於去指定舊的list給新的變數的時候，我們的電腦會建立一個新的資料儲存體，並且將一個相同的reference丟到這個新的儲存體之中，而此時如果我們修改list中的item等於是去修改這個reference中的內容，因此兩個具有相同reference的儲存體中的item便會同時被修改，以下為示意圖:\n",
    "![image.png](attachment:image.png)"
   ]
  },
  {
   "cell_type": "code",
   "execution_count": 17,
   "id": "25327a7a",
   "metadata": {},
   "outputs": [
    {
     "ename": "TypeError",
     "evalue": "'tuple' object does not support item assignment",
     "output_type": "error",
     "traceback": [
      "\u001b[1;31m---------------------------------------------------------------------------\u001b[0m",
      "\u001b[1;31mTypeError\u001b[0m                                 Traceback (most recent call last)",
      "\u001b[1;32m<ipython-input-17-724a2335dedd>\u001b[0m in \u001b[0;36m<module>\u001b[1;34m\u001b[0m\n\u001b[1;32m----> 1\u001b[1;33m \u001b[0mt\u001b[0m\u001b[1;33m[\u001b[0m\u001b[1;36m0\u001b[0m\u001b[1;33m]\u001b[0m \u001b[1;33m=\u001b[0m \u001b[1;36m3\u001b[0m\u001b[1;33m\u001b[0m\u001b[1;33m\u001b[0m\u001b[0m\n\u001b[0m",
      "\u001b[1;31mTypeError\u001b[0m: 'tuple' object does not support item assignment"
     ]
    }
   ],
   "source": [
    "t[0] = 3"
   ]
  },
  {
   "cell_type": "code",
   "execution_count": 18,
   "id": "492a1315",
   "metadata": {},
   "outputs": [
    {
     "data": {
      "text/plain": [
       "[1, 2, 3]"
      ]
     },
     "execution_count": 18,
     "metadata": {},
     "output_type": "execute_result"
    }
   ],
   "source": [
    "t = (1,2,3)\n",
    "l = list(t)\n",
    "l"
   ]
  },
  {
   "cell_type": "code",
   "execution_count": 19,
   "id": "015fd834",
   "metadata": {},
   "outputs": [
    {
     "data": {
      "text/plain": [
       "(1, 2, 3)"
      ]
     },
     "execution_count": 19,
     "metadata": {},
     "output_type": "execute_result"
    }
   ],
   "source": [
    "l = [1,2,3]\n",
    "t = tuple(l)\n",
    "t"
   ]
  },
  {
   "cell_type": "markdown",
   "id": "1689e30a",
   "metadata": {},
   "source": [
    "### 我們可以把這樣的特性應用在函式之中:"
   ]
  },
  {
   "cell_type": "code",
   "execution_count": 32,
   "id": "4b04cedb",
   "metadata": {},
   "outputs": [
    {
     "data": {
      "text/plain": [
       "[1, 2, 3, 4, 'Hello']"
      ]
     },
     "execution_count": 32,
     "metadata": {},
     "output_type": "execute_result"
    }
   ],
   "source": [
    "def egg(param):\n",
    "    param.append('Hello')\n",
    "spam = [1,2,3,4]\n",
    "egg(spam)\n",
    "spam"
   ]
  },
  {
   "cell_type": "markdown",
   "id": "acf3a01c",
   "metadata": {},
   "source": [
    "### 我們在前面函式的單元有介紹過，區域變數在執行完函式之後便會被銷毀，但是為甚麼在這個例子裡位在全域的spam list卻依然被修改了呢?原因是在執行egg函式的時候，我們的函式自動下了一個param=spam的指令，等於多了一個存放相同reference的param list，當執行該函式的時候也同時修改了這兩個儲存體中的reference，因此當egg函式執行完畢後spam list中的reference也同時被修改完成。"
   ]
  },
  {
   "cell_type": "markdown",
   "id": "4d9d80ab",
   "metadata": {},
   "source": [
    "### 然而有的時候我們並不想要兩個list同時被修改，我們想要做出區隔，這時候我們就可以使用copy套件中的deepcopy函式來複製一個原本的list，用這個方法就不會在新的list中存方和原本list相同的reference。"
   ]
  },
  {
   "cell_type": "code",
   "execution_count": 35,
   "id": "9c266ee5",
   "metadata": {},
   "outputs": [
    {
     "data": {
      "text/plain": [
       "['Hello', 'b', 'c']"
      ]
     },
     "execution_count": 35,
     "metadata": {},
     "output_type": "execute_result"
    }
   ],
   "source": [
    "import copy\n",
    "spam = ['a','b','c']\n",
    "cheese = copy.deepcopy(spam)\n",
    "cheese[0] = 'Hello'\n",
    "cheese"
   ]
  },
  {
   "cell_type": "code",
   "execution_count": 36,
   "id": "40ac158c",
   "metadata": {},
   "outputs": [
    {
     "data": {
      "text/plain": [
       "['a', 'b', 'c']"
      ]
     },
     "execution_count": 36,
     "metadata": {},
     "output_type": "execute_result"
    }
   ],
   "source": [
    "spam"
   ]
  },
  {
   "cell_type": "markdown",
   "id": "b23cf9f8",
   "metadata": {},
   "source": [
    "## python中的反斜線\n",
    "### python中的反斜線無法被視為字串，但是它有著特殊的功能，它能夠加在字串之中並且用來告訴電腦，你的字串要換行，這對於一些過長的字串編寫的時候非常實用。"
   ]
  },
  {
   "cell_type": "code",
   "execution_count": 37,
   "id": "a1f2ac3a",
   "metadata": {},
   "outputs": [
    {
     "ename": "SyntaxError",
     "evalue": "EOL while scanning string literal (<ipython-input-37-e6eb0c8cec34>, line 2)",
     "output_type": "error",
     "traceback": [
      "\u001b[1;36m  File \u001b[1;32m\"<ipython-input-37-e6eb0c8cec34>\"\u001b[1;36m, line \u001b[1;32m2\u001b[0m\n\u001b[1;33m    string = '\\'\u001b[0m\n\u001b[1;37m                ^\u001b[0m\n\u001b[1;31mSyntaxError\u001b[0m\u001b[1;31m:\u001b[0m EOL while scanning string literal\n"
     ]
    }
   ],
   "source": [
    "#無法被視為字串\n",
    "string = '\\'"
   ]
  },
  {
   "cell_type": "code",
   "execution_count": 44,
   "id": "5c146f9f",
   "metadata": {},
   "outputs": [
    {
     "ename": "SyntaxError",
     "evalue": "invalid syntax (<ipython-input-44-76474d9aa38c>, line 2)",
     "output_type": "error",
     "traceback": [
      "\u001b[1;36m  File \u001b[1;32m\"<ipython-input-44-76474d9aa38c>\"\u001b[1;36m, line \u001b[1;32m2\u001b[0m\n\u001b[1;33m    names = 'Zophie the'+\u001b[0m\n\u001b[1;37m                         ^\u001b[0m\n\u001b[1;31mSyntaxError\u001b[0m\u001b[1;31m:\u001b[0m invalid syntax\n"
     ]
    }
   ],
   "source": [
    "# 沒有加反斜線\n",
    "names = 'Zophie the'+\n",
    "        cat'"
   ]
  },
  {
   "cell_type": "code",
   "execution_count": 43,
   "id": "2d1102a4",
   "metadata": {},
   "outputs": [
    {
     "data": {
      "text/plain": [
       "'Zophie the cat'"
      ]
     },
     "execution_count": 43,
     "metadata": {},
     "output_type": "execute_result"
    }
   ],
   "source": [
    "# 加入反斜線\n",
    "names = 'Zophie the' +\\\n",
    "        ' cat'\n",
    "names"
   ]
  },
  {
   "cell_type": "markdown",
   "id": "4fa773ee",
   "metadata": {},
   "source": [
    "## 練習\n",
    "### Q1 請問下列程式碼的輸出結果為何?\n",
    "### >>> spam = 5\n",
    "### >>> spam+=1\n",
    "### >>> spam\n",
    "### a. 1   b. 5   c. 51   d. 6"
   ]
  },
  {
   "cell_type": "code",
   "execution_count": 13,
   "id": "f9beac77",
   "metadata": {},
   "outputs": [
    {
     "data": {
      "text/plain": [
       "6"
      ]
     },
     "execution_count": 13,
     "metadata": {},
     "output_type": "execute_result"
    }
   ],
   "source": [
    "spam = 5\n",
    "spam+=1\n",
    "spam"
   ]
  },
  {
   "cell_type": "markdown",
   "id": "fcb486e4",
   "metadata": {},
   "source": [
    "### Q2 請問下列程式碼的輸出結果為何?\n",
    "### >>> '\\\\' \n",
    "### a. '\\\\'   b. SyntaxError: EOL while scanning string literal"
   ]
  },
  {
   "cell_type": "code",
   "execution_count": 14,
   "id": "b2134986",
   "metadata": {},
   "outputs": [
    {
     "ename": "SyntaxError",
     "evalue": "EOL while scanning string literal (<ipython-input-14-d44a383620ab>, line 1)",
     "output_type": "error",
     "traceback": [
      "\u001b[1;36m  File \u001b[1;32m\"<ipython-input-14-d44a383620ab>\"\u001b[1;36m, line \u001b[1;32m1\u001b[0m\n\u001b[1;33m    '\\'\u001b[0m\n\u001b[1;37m       ^\u001b[0m\n\u001b[1;31mSyntaxError\u001b[0m\u001b[1;31m:\u001b[0m EOL while scanning string literal\n"
     ]
    }
   ],
   "source": [
    "'\\'"
   ]
  },
  {
   "cell_type": "markdown",
   "id": "c12e1ac5",
   "metadata": {},
   "source": [
    "### Q3 請問下列程式碼的輸出結果為何?\n",
    "### >>> x = [1,2]\n",
    "### >>> y = x\n",
    "### >>> y[1] = 'Hello'\n",
    "### >>>x\n",
    "\n",
    "### a. [1,2]   b. ['Hello',2]   c. [1,'Hello'] "
   ]
  },
  {
   "cell_type": "code",
   "execution_count": 15,
   "id": "e60e847a",
   "metadata": {},
   "outputs": [
    {
     "data": {
      "text/plain": [
       "[1, 'Hello']"
      ]
     },
     "execution_count": 15,
     "metadata": {},
     "output_type": "execute_result"
    }
   ],
   "source": [
    "x = [1,2]\n",
    "y = x\n",
    "y[1] = 'Hello'\n",
    "x"
   ]
  },
  {
   "cell_type": "markdown",
   "id": "660eb3f7",
   "metadata": {},
   "source": [
    "## 03.5 Dictionary 字典\n",
    "### 字典是python的另一種儲存資料形式，而在Python的字典中，每一個元素都由鍵 (key) 和值 (value) 構成，結構為key: value 。不同的元素之間會以逗號分隔，並且以大括號 {}圍住，我們可以透過key值來查找字典中對應的value。"
   ]
  },
  {
   "cell_type": "code",
   "execution_count": 1,
   "id": "956b480e",
   "metadata": {},
   "outputs": [
    {
     "data": {
      "text/plain": [
       "'fat'"
      ]
     },
     "execution_count": 1,
     "metadata": {},
     "output_type": "execute_result"
    }
   ],
   "source": [
    "myCat = {\n",
    "    'size':'fat',\n",
    "    'color':'gray',\n",
    "    'disposition':'loud'\n",
    "}\n",
    "myCat['size']"
   ]
  },
  {
   "cell_type": "code",
   "execution_count": 3,
   "id": "266bf28f",
   "metadata": {},
   "outputs": [
    {
     "data": {
      "text/plain": [
       "'My cat has gray fur'"
      ]
     },
     "execution_count": 3,
     "metadata": {},
     "output_type": "execute_result"
    }
   ],
   "source": [
    "'My cat has '+myCat['color']+' fur'"
   ]
  },
  {
   "cell_type": "code",
   "execution_count": 8,
   "id": "7d9451bf",
   "metadata": {},
   "outputs": [
    {
     "data": {
      "text/plain": [
       "'cat'"
      ]
     },
     "execution_count": 8,
     "metadata": {},
     "output_type": "execute_result"
    }
   ],
   "source": [
    "my_dict = {\n",
    "    10:'cat',\n",
    "    20:'dog',\n",
    "    24:'whale'\n",
    "}\n",
    "my_dict[10]"
   ]
  },
  {
   "cell_type": "markdown",
   "id": "e42f6bdf",
   "metadata": {},
   "source": [
    "### 要注意的是，字典不像其他的資料儲存形式，字典並沒有順序的概念，例如:"
   ]
  },
  {
   "cell_type": "code",
   "execution_count": 9,
   "id": "1c427dd5",
   "metadata": {},
   "outputs": [
    {
     "ename": "KeyError",
     "evalue": "1",
     "output_type": "error",
     "traceback": [
      "\u001b[1;31m---------------------------------------------------------------------------\u001b[0m",
      "\u001b[1;31mKeyError\u001b[0m                                  Traceback (most recent call last)",
      "\u001b[1;32m<ipython-input-9-ffdb8416d531>\u001b[0m in \u001b[0;36m<module>\u001b[1;34m\u001b[0m\n\u001b[0;32m      1\u001b[0m \u001b[0mmyCat\u001b[0m \u001b[1;33m=\u001b[0m \u001b[1;33m{\u001b[0m\u001b[1;34m'size'\u001b[0m\u001b[1;33m:\u001b[0m\u001b[1;34m'fat'\u001b[0m\u001b[1;33m,\u001b[0m\u001b[1;34m'color'\u001b[0m\u001b[1;33m:\u001b[0m\u001b[1;34m'gray'\u001b[0m\u001b[1;33m,\u001b[0m\u001b[1;34m'disposition'\u001b[0m\u001b[1;33m:\u001b[0m\u001b[1;34m'loud'\u001b[0m\u001b[1;33m}\u001b[0m\u001b[1;33m\u001b[0m\u001b[1;33m\u001b[0m\u001b[0m\n\u001b[1;32m----> 2\u001b[1;33m \u001b[0mmyCat\u001b[0m\u001b[1;33m[\u001b[0m\u001b[1;36m1\u001b[0m\u001b[1;33m]\u001b[0m\u001b[1;33m\u001b[0m\u001b[1;33m\u001b[0m\u001b[0m\n\u001b[0m",
      "\u001b[1;31mKeyError\u001b[0m: 1"
     ]
    }
   ],
   "source": [
    "myCat = {'size':'fat','color':'gray','disposition':'loud'}\n",
    "myCat[1]"
   ]
  },
  {
   "cell_type": "code",
   "execution_count": 10,
   "id": "ae4c51ef",
   "metadata": {},
   "outputs": [
    {
     "data": {
      "text/plain": [
       "True"
      ]
     },
     "execution_count": 10,
     "metadata": {},
     "output_type": "execute_result"
    }
   ],
   "source": [
    "myCat = {'size':'fat','color':'gray','disposition':'loud'}\n",
    "hisCat = {'color':'gray','disposition':'loud','size':'fat'}\n",
    "myCat == hisCat"
   ]
  },
  {
   "cell_type": "markdown",
   "id": "cb888e9f",
   "metadata": {},
   "source": [
    "### 雖然我們不能以順序的方式呼叫字典，但是我們可以透過一些相關指令去呼叫字典中的相關要素。"
   ]
  },
  {
   "cell_type": "code",
   "execution_count": 11,
   "id": "99369e78",
   "metadata": {},
   "outputs": [
    {
     "data": {
      "text/plain": [
       "dict_keys(['size', 'color', 'disposition'])"
      ]
     },
     "execution_count": 11,
     "metadata": {},
     "output_type": "execute_result"
    }
   ],
   "source": [
    "myCat = {'size':'fat','color':'gray','disposition':'loud'}\n",
    "myCat.keys()"
   ]
  },
  {
   "cell_type": "code",
   "execution_count": 12,
   "id": "0c0311ed",
   "metadata": {},
   "outputs": [
    {
     "data": {
      "text/plain": [
       "dict_values(['fat', 'gray', 'loud'])"
      ]
     },
     "execution_count": 12,
     "metadata": {},
     "output_type": "execute_result"
    }
   ],
   "source": [
    "myCat.values()"
   ]
  },
  {
   "cell_type": "code",
   "execution_count": 13,
   "id": "63494a20",
   "metadata": {},
   "outputs": [
    {
     "data": {
      "text/plain": [
       "dict_items([('size', 'fat'), ('color', 'gray'), ('disposition', 'loud')])"
      ]
     },
     "execution_count": 13,
     "metadata": {},
     "output_type": "execute_result"
    }
   ],
   "source": [
    "myCat.items()"
   ]
  },
  {
   "cell_type": "code",
   "execution_count": 14,
   "id": "0b3eba1b",
   "metadata": {},
   "outputs": [
    {
     "name": "stdout",
     "output_type": "stream",
     "text": [
      "size\n",
      "color\n",
      "disposition\n"
     ]
    }
   ],
   "source": [
    "for i in myCat.keys():\n",
    "    print(i)"
   ]
  },
  {
   "cell_type": "markdown",
   "id": "401059f4",
   "metadata": {},
   "source": [
    "### 有的時候我們想要查詢一些大型字典中是否有我們指定的key值的時候，我們可以使用.get('key','return value')這個指令來幫助我們，避免因直接搜尋該key值出現error，例如:"
   ]
  },
  {
   "cell_type": "code",
   "execution_count": 15,
   "id": "9b515b3a",
   "metadata": {},
   "outputs": [
    {
     "ename": "KeyError",
     "evalue": "'name'",
     "output_type": "error",
     "traceback": [
      "\u001b[1;31m---------------------------------------------------------------------------\u001b[0m",
      "\u001b[1;31mKeyError\u001b[0m                                  Traceback (most recent call last)",
      "\u001b[1;32m<ipython-input-15-8dc496bfb475>\u001b[0m in \u001b[0;36m<module>\u001b[1;34m\u001b[0m\n\u001b[1;32m----> 1\u001b[1;33m \u001b[0mmyCat\u001b[0m\u001b[1;33m[\u001b[0m\u001b[1;34m'name'\u001b[0m\u001b[1;33m]\u001b[0m\u001b[1;33m\u001b[0m\u001b[1;33m\u001b[0m\u001b[0m\n\u001b[0m",
      "\u001b[1;31mKeyError\u001b[0m: 'name'"
     ]
    }
   ],
   "source": [
    "myCat['name']"
   ]
  },
  {
   "cell_type": "code",
   "execution_count": 17,
   "id": "774e592c",
   "metadata": {},
   "outputs": [
    {
     "data": {
      "text/plain": [
       "'No result'"
      ]
     },
     "execution_count": 17,
     "metadata": {},
     "output_type": "execute_result"
    }
   ],
   "source": [
    "myCat.get('name','No result') #查詢name這個key且如果該字典中沒有name這個key則回傳'No result'"
   ]
  },
  {
   "cell_type": "code",
   "execution_count": 18,
   "id": "897ef77e",
   "metadata": {},
   "outputs": [
    {
     "data": {
      "text/plain": [
       "'gray'"
      ]
     },
     "execution_count": 18,
     "metadata": {},
     "output_type": "execute_result"
    }
   ],
   "source": [
    "myCat.get('color','No result') #搜尋成功"
   ]
  },
  {
   "cell_type": "code",
   "execution_count": 20,
   "id": "fa7e5251",
   "metadata": {},
   "outputs": [
    {
     "data": {
      "text/plain": [
       "'I will bring 0 napkins to the picnic.'"
      ]
     },
     "execution_count": 20,
     "metadata": {},
     "output_type": "execute_result"
    }
   ],
   "source": [
    "# 應用\n",
    "picnicItems = {'apple':5,'cups':2}\n",
    "'I will bring '+str(picnicItems.get('napkins',0))+' napkins to the picnic.'"
   ]
  },
  {
   "cell_type": "markdown",
   "id": "c34a2e65",
   "metadata": {},
   "source": [
    "### 我們可以透過指定新key的方式去新增字典中本來沒有的項目。"
   ]
  },
  {
   "cell_type": "code",
   "execution_count": 21,
   "id": "da10bf7d",
   "metadata": {},
   "outputs": [],
   "source": [
    "myCat = {'size':'fat','color':'gray','disposition':'loud'}\n",
    "if 'name' not in myCat:\n",
    "    myCat['name'] = 'Debbie'"
   ]
  },
  {
   "cell_type": "markdown",
   "id": "c8005e9b",
   "metadata": {},
   "source": [
    "### 我們可以利用字典功能計算字母的出現次數，以下是幾個常用的小技巧。"
   ]
  },
  {
   "cell_type": "code",
   "execution_count": 26,
   "id": "487e7c45",
   "metadata": {},
   "outputs": [
    {
     "name": "stdout",
     "output_type": "stream",
     "text": [
      "{'I': 1, 't': 2, ' ': 7, 'w': 1, 'a': 4, 's': 1, 'b': 1, 'r': 2, 'i': 3, 'g': 1, 'h': 1, 'c': 1, 'o': 1, 'l': 2, 'd': 2, 'y': 1, 'n': 1, 'p': 1}\n"
     ]
    }
   ],
   "source": [
    "message = 'It was a bright cold day in april'\n",
    "count = {}\n",
    "for character in message:\n",
    "    count.setdefault(character,0)\n",
    "    count[character] = count[character]+1\n",
    "print(count)"
   ]
  },
  {
   "cell_type": "code",
   "execution_count": 29,
   "id": "dfe4b117",
   "metadata": {},
   "outputs": [
    {
     "name": "stdout",
     "output_type": "stream",
     "text": [
      "{' ': 7,\n",
      " 'I': 1,\n",
      " 'a': 4,\n",
      " 'b': 1,\n",
      " 'c': 1,\n",
      " 'd': 2,\n",
      " 'g': 1,\n",
      " 'h': 1,\n",
      " 'i': 3,\n",
      " 'l': 2,\n",
      " 'n': 1,\n",
      " 'o': 1,\n",
      " 'p': 1,\n",
      " 'r': 2,\n",
      " 's': 1,\n",
      " 't': 2,\n",
      " 'w': 1,\n",
      " 'y': 1}\n"
     ]
    }
   ],
   "source": [
    "import pprint\n",
    "pprint.pprint(count)"
   ]
  },
  {
   "cell_type": "code",
   "execution_count": 31,
   "id": "507caf49",
   "metadata": {},
   "outputs": [
    {
     "name": "stdout",
     "output_type": "stream",
     "text": [
      "{' ': 7,\n",
      " 'I': 1,\n",
      " 'a': 4,\n",
      " 'b': 1,\n",
      " 'c': 1,\n",
      " 'd': 2,\n",
      " 'g': 1,\n",
      " 'h': 1,\n",
      " 'i': 3,\n",
      " 'l': 2,\n",
      " 'n': 1,\n",
      " 'o': 1,\n",
      " 'p': 1,\n",
      " 'r': 2,\n",
      " 's': 1,\n",
      " 't': 2,\n",
      " 'w': 1,\n",
      " 'y': 1}\n"
     ]
    }
   ],
   "source": [
    "text = pprint.pformat(count)\n",
    "print(text)"
   ]
  },
  {
   "attachments": {
    "image.png": {
     "image/png": "[encoded data removed]"
    }
   },
   "cell_type": "markdown",
   "id": "edaaf2e6",
   "metadata": {},
   "source": [
    "## 有趣的字典表示案例\n",
    "### 字典可以幫助我們來表示一些特殊的資料結構，例如我們熟悉的圈叉遊戲中的九宮格，可以透過字典來記錄每個格子中的「值」。\n",
    "![image.png](attachment:image.png)"
   ]
  },
  {
   "cell_type": "code",
   "execution_count": 50,
   "id": "b5742e45",
   "metadata": {},
   "outputs": [],
   "source": [
    "theBoard = {'top-L':'O','top-M':'O','top-R':' ','mid-L':' ','mid-M':'X','mid-R':' ','low-L':' ','low-M':' ','low-R':' '}"
   ]
  },
  {
   "cell_type": "code",
   "execution_count": 42,
   "id": "f24d6b40",
   "metadata": {},
   "outputs": [
    {
     "data": {
      "text/plain": [
       "{'top-L': 'O', 'top-M': 'X', 'top-R': ' ', 'mid-L': ' ', 'mid-M': 'X', 'mid-R': ' ', 'low-L': ' ', 'low-M': ' ', 'low-R': ' '}"
      ]
     },
     "execution_count": 42,
     "metadata": {},
     "output_type": "execute_result"
    }
   ],
   "source": [
    "theBoard "
   ]
  },
  {
   "cell_type": "markdown",
   "id": "7eab30e9",
   "metadata": {},
   "source": [
    "### 然而，這樣的資料表是形式對於電腦來說只是一串數字，它無法用九宮格的方式呈現每一個格子的內容，我們可以寫一個簡單的函式來以視覺化的方式呈現這組資料。"
   ]
  },
  {
   "cell_type": "code",
   "execution_count": 51,
   "id": "0d717abc",
   "metadata": {},
   "outputs": [],
   "source": [
    "def printBoard(board):\n",
    "    print(board['top-L']+'|'+board['top-M']+\"|\"+board['top-R'])\n",
    "    print('-----')\n",
    "    print(board['mid-L']+'|'+board['mid-M']+\"|\"+board['mid-R'])\n",
    "    print('-----')\n",
    "    print(board['low-L']+'|'+board['low-M']+\"|\"+board['low-R'])"
   ]
  },
  {
   "cell_type": "code",
   "execution_count": 52,
   "id": "13b49b7d",
   "metadata": {},
   "outputs": [
    {
     "name": "stdout",
     "output_type": "stream",
     "text": [
      "O|O| \n",
      "-----\n",
      " |X| \n",
      "-----\n",
      " | | \n"
     ]
    }
   ],
   "source": [
    "printBoard(theBoard)"
   ]
  },
  {
   "cell_type": "markdown",
   "id": "28da001a",
   "metadata": {},
   "source": [
    "### 透過指派新的value在特定的key值中，我們就可以更新這個九宮格內的資料了，如此一來，一個簡單的九宮格遊戲就誕生了。"
   ]
  },
  {
   "cell_type": "code",
   "execution_count": 53,
   "id": "6f1bef87",
   "metadata": {},
   "outputs": [],
   "source": [
    "theBoard['top-R'] = 'O'\n",
    "theBoard['low-M'] = 'X'"
   ]
  },
  {
   "cell_type": "code",
   "execution_count": 54,
   "id": "f78f15a3",
   "metadata": {},
   "outputs": [
    {
     "name": "stdout",
     "output_type": "stream",
     "text": [
      "O|O|O\n",
      "-----\n",
      " |X| \n",
      "-----\n",
      " |X| \n"
     ]
    }
   ],
   "source": [
    "printBoard(theBoard)"
   ]
  },
  {
   "cell_type": "markdown",
   "id": "0df73e77",
   "metadata": {},
   "source": [
    "## 練習\n",
    "### Q1 現有一個字典如下\n",
    "### >>>jobs = {'Bob':'doctor','Marry':'clerk','Dave':'banker'}\n",
    "### 以下輸出結果為何?\n",
    "### >>> jobs['Bob']\n",
    "### a. doctor   b. clerk   c. banker"
   ]
  },
  {
   "cell_type": "code",
   "execution_count": 16,
   "id": "2dc5f105",
   "metadata": {},
   "outputs": [
    {
     "data": {
      "text/plain": [
       "'doctor'"
      ]
     },
     "execution_count": 16,
     "metadata": {},
     "output_type": "execute_result"
    }
   ],
   "source": [
    "jobs = {'Bob':'doctor','Marry':'clerk','Dave':'banker'}\n",
    "jobs['Bob']"
   ]
  },
  {
   "cell_type": "markdown",
   "id": "c6f1791e",
   "metadata": {},
   "source": [
    "### Q2 承上題，以下輸出結果為何?\n",
    "### >>> jobs['doctor']\n",
    "### a. Bob   b. KeyError : 'doctor'"
   ]
  },
  {
   "cell_type": "code",
   "execution_count": 17,
   "id": "4aa9fcfb",
   "metadata": {},
   "outputs": [
    {
     "ename": "KeyError",
     "evalue": "'doctor'",
     "output_type": "error",
     "traceback": [
      "\u001b[1;31m---------------------------------------------------------------------------\u001b[0m",
      "\u001b[1;31mKeyError\u001b[0m                                  Traceback (most recent call last)",
      "\u001b[1;32m<ipython-input-17-4a4602a83339>\u001b[0m in \u001b[0;36m<module>\u001b[1;34m\u001b[0m\n\u001b[1;32m----> 1\u001b[1;33m \u001b[0mjobs\u001b[0m\u001b[1;33m[\u001b[0m\u001b[1;34m'doctor'\u001b[0m\u001b[1;33m]\u001b[0m\u001b[1;33m\u001b[0m\u001b[1;33m\u001b[0m\u001b[0m\n\u001b[0m",
      "\u001b[1;31mKeyError\u001b[0m: 'doctor'"
     ]
    }
   ],
   "source": [
    "jobs['doctor']"
   ]
  },
  {
   "cell_type": "markdown",
   "id": "9628893e",
   "metadata": {},
   "source": [
    "### Q3 承上題，以下輸出結果為何?\n",
    "### >>> jobs.get('doctor','No result')\n",
    "### a. Bob   b. KeyError : 'doctor'   c. No result"
   ]
  },
  {
   "cell_type": "code",
   "execution_count": 18,
   "id": "11497304",
   "metadata": {},
   "outputs": [
    {
     "data": {
      "text/plain": [
       "'No result'"
      ]
     },
     "execution_count": 18,
     "metadata": {},
     "output_type": "execute_result"
    }
   ],
   "source": [
    "jobs.get('doctor','No result')"
   ]
  },
  {
   "cell_type": "markdown",
   "id": "9227485a",
   "metadata": {},
   "source": [
    "## 03.6 Tuple & Sets\n",
    "## Tuple 元組\n",
    "### 在Python中，Tuple和List非常相近，但與List最大差異在於Tuple是一個不可變動的資料格式。我們可以使用()來建立Tuple物件，用逗號區隔Tuple中的item。\n"
   ]
  },
  {
   "cell_type": "code",
   "execution_count": 3,
   "id": "d6f57102",
   "metadata": {},
   "outputs": [
    {
     "data": {
      "text/plain": [
       "(1, 2, 3, 4)"
      ]
     },
     "execution_count": 3,
     "metadata": {},
     "output_type": "execute_result"
    }
   ],
   "source": [
    "t= (1,2,3,4)\n",
    "t"
   ]
  },
  {
   "cell_type": "code",
   "execution_count": 4,
   "id": "1c50e50a",
   "metadata": {},
   "outputs": [
    {
     "ename": "TypeError",
     "evalue": "'tuple' object does not support item assignment",
     "output_type": "error",
     "traceback": [
      "\u001b[1;31m---------------------------------------------------------------------------\u001b[0m",
      "\u001b[1;31mTypeError\u001b[0m                                 Traceback (most recent call last)",
      "\u001b[1;32m<ipython-input-4-b074a96c0f3f>\u001b[0m in \u001b[0;36m<module>\u001b[1;34m\u001b[0m\n\u001b[0;32m      1\u001b[0m \u001b[0mt\u001b[0m\u001b[1;33m[\u001b[0m\u001b[1;36m0\u001b[0m\u001b[1;33m:\u001b[0m\u001b[1;36m2\u001b[0m\u001b[1;33m]\u001b[0m\u001b[1;33m\u001b[0m\u001b[1;33m\u001b[0m\u001b[0m\n\u001b[1;32m----> 2\u001b[1;33m \u001b[0mt\u001b[0m\u001b[1;33m[\u001b[0m\u001b[1;36m0\u001b[0m\u001b[1;33m]\u001b[0m \u001b[1;33m=\u001b[0m \u001b[1;36m5\u001b[0m\u001b[1;33m\u001b[0m\u001b[1;33m\u001b[0m\u001b[0m\n\u001b[0m",
      "\u001b[1;31mTypeError\u001b[0m: 'tuple' object does not support item assignment"
     ]
    }
   ],
   "source": [
    "t[0:2]\n",
    "t[0] = 5"
   ]
  },
  {
   "cell_type": "markdown",
   "id": "d3139d55",
   "metadata": {},
   "source": [
    "## Set 集合\n",
    "### Set也是python中常見的一種資料型態，和Tuple相近，一樣無法更改Set內的item，但是Set還多了沒有順序性的特性。"
   ]
  },
  {
   "cell_type": "code",
   "execution_count": 1,
   "id": "cc9ffde0",
   "metadata": {},
   "outputs": [
    {
     "data": {
      "text/plain": [
       "{1, 2, 3, 4}"
      ]
     },
     "execution_count": 1,
     "metadata": {},
     "output_type": "execute_result"
    }
   ],
   "source": [
    "s = {1,2,3,4}\n",
    "s"
   ]
  },
  {
   "cell_type": "code",
   "execution_count": 2,
   "id": "87516b41",
   "metadata": {},
   "outputs": [
    {
     "ename": "TypeError",
     "evalue": "'set' object is not subscriptable",
     "output_type": "error",
     "traceback": [
      "\u001b[1;31m---------------------------------------------------------------------------\u001b[0m",
      "\u001b[1;31mTypeError\u001b[0m                                 Traceback (most recent call last)",
      "\u001b[1;32m<ipython-input-2-354d6d7fa2e4>\u001b[0m in \u001b[0;36m<module>\u001b[1;34m\u001b[0m\n\u001b[1;32m----> 1\u001b[1;33m \u001b[0ms\u001b[0m\u001b[1;33m[\u001b[0m\u001b[1;36m3\u001b[0m\u001b[1;33m]\u001b[0m\u001b[1;33m\u001b[0m\u001b[1;33m\u001b[0m\u001b[0m\n\u001b[0m",
      "\u001b[1;31mTypeError\u001b[0m: 'set' object is not subscriptable"
     ]
    }
   ],
   "source": [
    "s[3]"
   ]
  },
  {
   "cell_type": "code",
   "execution_count": null,
   "id": "8d259f4c",
   "metadata": {},
   "outputs": [],
   "source": []
  }
 ],
 "metadata": {
  "colab": {
   "collapsed_sections": [],
   "name": "Lesson1 Python基礎知識.ipynb",
   "provenance": []
  },
  "kernelspec": {
   "display_name": "Python 3",
   "language": "python",
   "name": "python3"
  },
  "language_info": {
   "codemirror_mode": {
    "name": "ipython",
    "version": 3
   },
   "file_extension": ".py",
   "mimetype": "text/x-python",
   "name": "python",
   "nbconvert_exporter": "python",
   "pygments_lexer": "ipython3",
   "version": "3.8.8"
  }
 },
 "nbformat": 4,
 "nbformat_minor": 5
}
