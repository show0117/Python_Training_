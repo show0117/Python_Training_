{
  "nbformat": 4,
  "nbformat_minor": 5,
  "metadata": {
    "kernelspec": {
      "display_name": "Python 3",
      "language": "python",
      "name": "python3"
    },
    "language_info": {
      "codemirror_mode": {
        "name": "ipython",
        "version": 3
      },
      "file_extension": ".py",
      "mimetype": "text/x-python",
      "name": "python",
      "nbconvert_exporter": "python",
      "pygments_lexer": "ipython3",
      "version": "3.8.8"
    },
    "colab": {
      "name": "Lesson1 Python基礎知識.ipynb",
      "provenance": [],
      "collapsed_sections": []
    }
  },
  "cells": [
    {
      "cell_type": "markdown",
      "metadata": {
        "id": "HRQMZz3KmXqX"
      },
      "source": [
        "## Statement和Expression\n",
        "### Python執行任何指令的動作可以被分成Statement和Expression，差別在於Expression會在指令執行完畢後進行值的回傳。\n"
      ],
      "id": "HRQMZz3KmXqX"
    },
    {
      "cell_type": "markdown",
      "metadata": {
        "id": "ZUp3BqM3nEjJ"
      },
      "source": [
        "### Statement"
      ],
      "id": "ZUp3BqM3nEjJ"
    },
    {
      "cell_type": "code",
      "metadata": {
        "id": "8-xQXKdynD23"
      },
      "source": [
        "x = 1"
      ],
      "id": "8-xQXKdynD23",
      "execution_count": null,
      "outputs": []
    },
    {
      "cell_type": "code",
      "metadata": {
        "id": "AwXKVk9nnLQu"
      },
      "source": [
        "def function(x):\n",
        "  print(x)"
      ],
      "id": "AwXKVk9nnLQu",
      "execution_count": null,
      "outputs": []
    },
    {
      "cell_type": "markdown",
      "metadata": {
        "id": "sPcUfFLrnOKy"
      },
      "source": [
        "### Expression"
      ],
      "id": "sPcUfFLrnOKy"
    },
    {
      "cell_type": "code",
      "metadata": {
        "id": "sxADfjLAnLYi"
      },
      "source": [
        "2+3"
      ],
      "id": "sxADfjLAnLYi",
      "execution_count": null,
      "outputs": []
    },
    {
      "cell_type": "code",
      "metadata": {
        "id": "6sMMH2MDnLa3"
      },
      "source": [
        "2==2"
      ],
      "id": "6sMMH2MDnLa3",
      "execution_count": null,
      "outputs": []
    },
    {
      "cell_type": "markdown",
      "metadata": {
        "id": "4ad3ec72"
      },
      "source": [
        "## 基本運算"
      ],
      "id": "4ad3ec72"
    },
    {
      "cell_type": "markdown",
      "metadata": {
        "id": "f3f8e179"
      },
      "source": [
        "### 在本篇，我們將介紹Python的一些基本知識以及Python的運算機制與表達機制。在Python中，常見的三種數值型態為字串(String)、整數(Integer)和浮點數(Float)，我們可以用Type指令來辨識我們的這些數值型態。"
      ],
      "id": "f3f8e179"
    },
    {
      "cell_type": "markdown",
      "metadata": {
        "id": "83cec24e"
      },
      "source": [
        "### 字串"
      ],
      "id": "83cec24e"
    },
    {
      "cell_type": "code",
      "metadata": {
        "id": "2b955bc2"
      },
      "source": [
        "'Hello'\n",
        "type('Hello')"
      ],
      "id": "2b955bc2",
      "execution_count": null,
      "outputs": []
    },
    {
      "cell_type": "markdown",
      "metadata": {
        "id": "3e630947"
      },
      "source": [
        "### 整數"
      ],
      "id": "3e630947"
    },
    {
      "cell_type": "code",
      "metadata": {
        "id": "43761993"
      },
      "source": [
        "42\n",
        "type(42)"
      ],
      "id": "43761993",
      "execution_count": null,
      "outputs": []
    },
    {
      "cell_type": "markdown",
      "metadata": {
        "id": "3a18c99b"
      },
      "source": [
        "### 浮點數"
      ],
      "id": "3a18c99b"
    },
    {
      "cell_type": "code",
      "metadata": {
        "id": "0a449e41"
      },
      "source": [
        "3.1415\n",
        "type(3.1415)"
      ],
      "id": "0a449e41",
      "execution_count": null,
      "outputs": []
    },
    {
      "cell_type": "markdown",
      "metadata": {
        "id": "45d1b0c8"
      },
      "source": [
        "## 數字的基本運算"
      ],
      "id": "45d1b0c8"
    },
    {
      "cell_type": "code",
      "metadata": {
        "id": "b7f69d03"
      },
      "source": [
        "3+7"
      ],
      "id": "b7f69d03",
      "execution_count": null,
      "outputs": []
    },
    {
      "cell_type": "code",
      "metadata": {
        "id": "0bfee4d4"
      },
      "source": [
        "3+7*10"
      ],
      "id": "0bfee4d4",
      "execution_count": null,
      "outputs": []
    },
    {
      "cell_type": "code",
      "metadata": {
        "id": "e5ca9793"
      },
      "source": [
        "(3+7)*10"
      ],
      "id": "e5ca9793",
      "execution_count": null,
      "outputs": []
    },
    {
      "cell_type": "markdown",
      "metadata": {
        "id": "581b3f19"
      },
      "source": [
        "## Python的字串(String)運算\n",
        "### 在Python中，字串也能夠以運算符號(Operators)做處理，一些簡單的例子如下:"
      ],
      "id": "581b3f19"
    },
    {
      "cell_type": "code",
      "metadata": {
        "id": "258a329c"
      },
      "source": [
        "\"Hello\"+\"World\""
      ],
      "id": "258a329c",
      "execution_count": null,
      "outputs": []
    },
    {
      "cell_type": "code",
      "metadata": {
        "id": "093c80ec"
      },
      "source": [
        "\"Hello\"*3+\"World\"*3"
      ],
      "id": "093c80ec",
      "execution_count": null,
      "outputs": []
    },
    {
      "cell_type": "code",
      "metadata": {
        "id": "82f86714"
      },
      "source": [
        "(\"Hello\"+\"World\")*3"
      ],
      "id": "82f86714",
      "execution_count": null,
      "outputs": []
    },
    {
      "cell_type": "code",
      "metadata": {
        "id": "be194606"
      },
      "source": [
        "\"Hello\"+\"!\"*10"
      ],
      "id": "be194606",
      "execution_count": null,
      "outputs": []
    },
    {
      "cell_type": "markdown",
      "metadata": {
        "id": "46cb9867"
      },
      "source": [
        "## 變數的應用\n",
        "### 在Python中，我們可以宣告任何的文字當成我們的變數，然後指定特定的值或字符給這些變數，範例如下:"
      ],
      "id": "46cb9867"
    },
    {
      "cell_type": "code",
      "metadata": {
        "id": "a948e6d8"
      },
      "source": [
        "x = 10\n",
        "print(x)"
      ],
      "id": "a948e6d8",
      "execution_count": null,
      "outputs": []
    },
    {
      "cell_type": "code",
      "metadata": {
        "id": "162e805d"
      },
      "source": [
        "x1 = 3\n",
        "x2 = 7\n",
        "print(x1)\n",
        "print(x2)"
      ],
      "id": "162e805d",
      "execution_count": null,
      "outputs": []
    },
    {
      "cell_type": "code",
      "metadata": {
        "id": "8ee6b577"
      },
      "source": [
        "y = 'Hello'\n",
        "print(y)"
      ],
      "id": "8ee6b577",
      "execution_count": null,
      "outputs": []
    },
    {
      "cell_type": "code",
      "metadata": {
        "id": "62b215ca"
      },
      "source": [
        "y1 = 'Hello'\n",
        "y2 = 'World'\n",
        "print(y1)\n",
        "print(y2)"
      ],
      "id": "62b215ca",
      "execution_count": null,
      "outputs": []
    },
    {
      "cell_type": "markdown",
      "metadata": {
        "id": "41b42927"
      },
      "source": [
        "### 要注意的是，當我們想要宣告新的變數的時候不要去重複宣告既有的變數名稱，不然原本的變數就會被覆蓋掉，例如:"
      ],
      "id": "41b42927"
    },
    {
      "cell_type": "code",
      "metadata": {
        "id": "bb9ed729"
      },
      "source": [
        "z = 10\n",
        "z"
      ],
      "id": "bb9ed729",
      "execution_count": null,
      "outputs": []
    },
    {
      "cell_type": "code",
      "metadata": {
        "id": "025833b5"
      },
      "source": [
        "z = 10\n",
        "z = 20\n",
        "z"
      ],
      "id": "025833b5",
      "execution_count": null,
      "outputs": []
    },
    {
      "cell_type": "markdown",
      "metadata": {
        "id": "997780a4"
      },
      "source": [
        "### 除此之外，我們也可以對我們的變數進行運算"
      ],
      "id": "997780a4"
    },
    {
      "cell_type": "code",
      "metadata": {
        "id": "a25b4720"
      },
      "source": [
        "x1+x2"
      ],
      "id": "a25b4720",
      "execution_count": null,
      "outputs": []
    },
    {
      "cell_type": "code",
      "metadata": {
        "id": "f0afcc15"
      },
      "source": [
        "x1+x2*10"
      ],
      "id": "f0afcc15",
      "execution_count": null,
      "outputs": []
    },
    {
      "cell_type": "code",
      "metadata": {
        "id": "f72eabb4"
      },
      "source": [
        "(x1+x2)*10"
      ],
      "id": "f72eabb4",
      "execution_count": null,
      "outputs": []
    },
    {
      "cell_type": "code",
      "metadata": {
        "id": "55527c55"
      },
      "source": [
        "y1+y2"
      ],
      "id": "55527c55",
      "execution_count": null,
      "outputs": []
    },
    {
      "cell_type": "code",
      "metadata": {
        "id": "0bb7a37c"
      },
      "source": [
        "y1+y2*10"
      ],
      "id": "0bb7a37c",
      "execution_count": null,
      "outputs": []
    },
    {
      "cell_type": "code",
      "metadata": {
        "id": "3dd8052a"
      },
      "source": [
        "(y1+y2)*10"
      ],
      "id": "3dd8052a",
      "execution_count": null,
      "outputs": []
    },
    {
      "cell_type": "markdown",
      "metadata": {
        "id": "7f55ae9b"
      },
      "source": [
        "### 當然，我們也可以把變數跟字串或數字跟變數結合進行數學運算。"
      ],
      "id": "7f55ae9b"
    },
    {
      "cell_type": "code",
      "metadata": {
        "id": "3d4441b9"
      },
      "source": [
        "x1+10"
      ],
      "id": "3d4441b9",
      "execution_count": null,
      "outputs": []
    },
    {
      "cell_type": "code",
      "metadata": {
        "id": "17a46518"
      },
      "source": [
        "y1+'Goodbye'"
      ],
      "id": "17a46518",
      "execution_count": null,
      "outputs": []
    },
    {
      "cell_type": "code",
      "metadata": {
        "id": "40b5ed8a"
      },
      "source": [
        "r1 = 2+2\n",
        "r2 = 3+3\n",
        "r1+r2"
      ],
      "id": "40b5ed8a",
      "execution_count": null,
      "outputs": []
    },
    {
      "cell_type": "code",
      "metadata": {
        "id": "e0c0e427"
      },
      "source": [
        ""
      ],
      "id": "e0c0e427",
      "execution_count": null,
      "outputs": []
    }
  ]
}